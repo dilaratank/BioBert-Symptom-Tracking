{
  "nbformat": 4,
  "nbformat_minor": 5,
  "metadata": {
    "kernelspec": {
      "display_name": "Python 3",
      "language": "python",
      "name": "python3"
    },
    "language_info": {
      "codemirror_mode": {
        "name": "ipython",
        "version": 3
      },
      "file_extension": ".py",
      "mimetype": "text/x-python",
      "name": "python",
      "nbconvert_exporter": "python",
      "pygments_lexer": "ipython3",
      "version": "3.9.2"
    },
    "colab": {
      "name": "Symptom_Tracking.ipynb",
      "provenance": [],
      "collapsed_sections": [],
      "toc_visible": true,
      "include_colab_link": true
    },
    "accelerator": "GPU",
    "widgets": {
      "application/vnd.jupyter.widget-state+json": {
        "aa045b6c2a744d4ebd63703a29e59b41": {
          "model_module": "@jupyter-widgets/controls",
          "model_name": "HBoxModel",
          "state": {
            "_view_name": "HBoxView",
            "_dom_classes": [],
            "_model_name": "HBoxModel",
            "_view_module": "@jupyter-widgets/controls",
            "_model_module_version": "1.5.0",
            "_view_count": null,
            "_view_module_version": "1.5.0",
            "box_style": "",
            "layout": "IPY_MODEL_42570d0d48d040579d86ed6073a1f680",
            "_model_module": "@jupyter-widgets/controls",
            "children": [
              "IPY_MODEL_80b6152be2eb436ebbf677699e4324e6",
              "IPY_MODEL_71a062f6f1cd4243815dfd893e077eb9"
            ]
          }
        },
        "42570d0d48d040579d86ed6073a1f680": {
          "model_module": "@jupyter-widgets/base",
          "model_name": "LayoutModel",
          "state": {
            "_view_name": "LayoutView",
            "grid_template_rows": null,
            "right": null,
            "justify_content": null,
            "_view_module": "@jupyter-widgets/base",
            "overflow": null,
            "_model_module_version": "1.2.0",
            "_view_count": null,
            "flex_flow": null,
            "width": null,
            "min_width": null,
            "border": null,
            "align_items": null,
            "bottom": null,
            "_model_module": "@jupyter-widgets/base",
            "top": null,
            "grid_column": null,
            "overflow_y": null,
            "overflow_x": null,
            "grid_auto_flow": null,
            "grid_area": null,
            "grid_template_columns": null,
            "flex": null,
            "_model_name": "LayoutModel",
            "justify_items": null,
            "grid_row": null,
            "max_height": null,
            "align_content": null,
            "visibility": null,
            "align_self": null,
            "height": null,
            "min_height": null,
            "padding": null,
            "grid_auto_rows": null,
            "grid_gap": null,
            "max_width": null,
            "order": null,
            "_view_module_version": "1.2.0",
            "grid_template_areas": null,
            "object_position": null,
            "object_fit": null,
            "grid_auto_columns": null,
            "margin": null,
            "display": null,
            "left": null
          }
        },
        "80b6152be2eb436ebbf677699e4324e6": {
          "model_module": "@jupyter-widgets/controls",
          "model_name": "FloatProgressModel",
          "state": {
            "_view_name": "ProgressView",
            "style": "IPY_MODEL_4841c878de444b5d87d3437b4c932444",
            "_dom_classes": [],
            "description": "Downloading: 100%",
            "_model_name": "FloatProgressModel",
            "bar_style": "success",
            "max": 835,
            "_view_module": "@jupyter-widgets/controls",
            "_model_module_version": "1.5.0",
            "value": 835,
            "_view_count": null,
            "_view_module_version": "1.5.0",
            "orientation": "horizontal",
            "min": 0,
            "description_tooltip": null,
            "_model_module": "@jupyter-widgets/controls",
            "layout": "IPY_MODEL_b354790e3702471e842a65e510104a0d"
          }
        },
        "71a062f6f1cd4243815dfd893e077eb9": {
          "model_module": "@jupyter-widgets/controls",
          "model_name": "HTMLModel",
          "state": {
            "_view_name": "HTMLView",
            "style": "IPY_MODEL_a5562d5d3b3b4fab96e7c68b201d35d9",
            "_dom_classes": [],
            "description": "",
            "_model_name": "HTMLModel",
            "placeholder": "​",
            "_view_module": "@jupyter-widgets/controls",
            "_model_module_version": "1.5.0",
            "value": " 835/835 [00:00&lt;00:00, 1.42kB/s]",
            "_view_count": null,
            "_view_module_version": "1.5.0",
            "description_tooltip": null,
            "_model_module": "@jupyter-widgets/controls",
            "layout": "IPY_MODEL_e3d92d4fefa64cfabfc2abd364fc6483"
          }
        },
        "4841c878de444b5d87d3437b4c932444": {
          "model_module": "@jupyter-widgets/controls",
          "model_name": "ProgressStyleModel",
          "state": {
            "_view_name": "StyleView",
            "_model_name": "ProgressStyleModel",
            "description_width": "initial",
            "_view_module": "@jupyter-widgets/base",
            "_model_module_version": "1.5.0",
            "_view_count": null,
            "_view_module_version": "1.2.0",
            "bar_color": null,
            "_model_module": "@jupyter-widgets/controls"
          }
        },
        "b354790e3702471e842a65e510104a0d": {
          "model_module": "@jupyter-widgets/base",
          "model_name": "LayoutModel",
          "state": {
            "_view_name": "LayoutView",
            "grid_template_rows": null,
            "right": null,
            "justify_content": null,
            "_view_module": "@jupyter-widgets/base",
            "overflow": null,
            "_model_module_version": "1.2.0",
            "_view_count": null,
            "flex_flow": null,
            "width": null,
            "min_width": null,
            "border": null,
            "align_items": null,
            "bottom": null,
            "_model_module": "@jupyter-widgets/base",
            "top": null,
            "grid_column": null,
            "overflow_y": null,
            "overflow_x": null,
            "grid_auto_flow": null,
            "grid_area": null,
            "grid_template_columns": null,
            "flex": null,
            "_model_name": "LayoutModel",
            "justify_items": null,
            "grid_row": null,
            "max_height": null,
            "align_content": null,
            "visibility": null,
            "align_self": null,
            "height": null,
            "min_height": null,
            "padding": null,
            "grid_auto_rows": null,
            "grid_gap": null,
            "max_width": null,
            "order": null,
            "_view_module_version": "1.2.0",
            "grid_template_areas": null,
            "object_position": null,
            "object_fit": null,
            "grid_auto_columns": null,
            "margin": null,
            "display": null,
            "left": null
          }
        },
        "a5562d5d3b3b4fab96e7c68b201d35d9": {
          "model_module": "@jupyter-widgets/controls",
          "model_name": "DescriptionStyleModel",
          "state": {
            "_view_name": "StyleView",
            "_model_name": "DescriptionStyleModel",
            "description_width": "",
            "_view_module": "@jupyter-widgets/base",
            "_model_module_version": "1.5.0",
            "_view_count": null,
            "_view_module_version": "1.2.0",
            "_model_module": "@jupyter-widgets/controls"
          }
        },
        "e3d92d4fefa64cfabfc2abd364fc6483": {
          "model_module": "@jupyter-widgets/base",
          "model_name": "LayoutModel",
          "state": {
            "_view_name": "LayoutView",
            "grid_template_rows": null,
            "right": null,
            "justify_content": null,
            "_view_module": "@jupyter-widgets/base",
            "overflow": null,
            "_model_module_version": "1.2.0",
            "_view_count": null,
            "flex_flow": null,
            "width": null,
            "min_width": null,
            "border": null,
            "align_items": null,
            "bottom": null,
            "_model_module": "@jupyter-widgets/base",
            "top": null,
            "grid_column": null,
            "overflow_y": null,
            "overflow_x": null,
            "grid_auto_flow": null,
            "grid_area": null,
            "grid_template_columns": null,
            "flex": null,
            "_model_name": "LayoutModel",
            "justify_items": null,
            "grid_row": null,
            "max_height": null,
            "align_content": null,
            "visibility": null,
            "align_self": null,
            "height": null,
            "min_height": null,
            "padding": null,
            "grid_auto_rows": null,
            "grid_gap": null,
            "max_width": null,
            "order": null,
            "_view_module_version": "1.2.0",
            "grid_template_areas": null,
            "object_position": null,
            "object_fit": null,
            "grid_auto_columns": null,
            "margin": null,
            "display": null,
            "left": null
          }
        },
        "bd03a79fd7ab4b8fb65813cb80d3e42f": {
          "model_module": "@jupyter-widgets/controls",
          "model_name": "HBoxModel",
          "state": {
            "_view_name": "HBoxView",
            "_dom_classes": [],
            "_model_name": "HBoxModel",
            "_view_module": "@jupyter-widgets/controls",
            "_model_module_version": "1.5.0",
            "_view_count": null,
            "_view_module_version": "1.5.0",
            "box_style": "",
            "layout": "IPY_MODEL_6587ea1a66ab441ab8bd2daa1ff3a410",
            "_model_module": "@jupyter-widgets/controls",
            "children": [
              "IPY_MODEL_05f95db7810146f9960d0a73fda0ebd5",
              "IPY_MODEL_7565a031fcc9412fa68a1fa81cff60d7"
            ]
          }
        },
        "6587ea1a66ab441ab8bd2daa1ff3a410": {
          "model_module": "@jupyter-widgets/base",
          "model_name": "LayoutModel",
          "state": {
            "_view_name": "LayoutView",
            "grid_template_rows": null,
            "right": null,
            "justify_content": null,
            "_view_module": "@jupyter-widgets/base",
            "overflow": null,
            "_model_module_version": "1.2.0",
            "_view_count": null,
            "flex_flow": null,
            "width": null,
            "min_width": null,
            "border": null,
            "align_items": null,
            "bottom": null,
            "_model_module": "@jupyter-widgets/base",
            "top": null,
            "grid_column": null,
            "overflow_y": null,
            "overflow_x": null,
            "grid_auto_flow": null,
            "grid_area": null,
            "grid_template_columns": null,
            "flex": null,
            "_model_name": "LayoutModel",
            "justify_items": null,
            "grid_row": null,
            "max_height": null,
            "align_content": null,
            "visibility": null,
            "align_self": null,
            "height": null,
            "min_height": null,
            "padding": null,
            "grid_auto_rows": null,
            "grid_gap": null,
            "max_width": null,
            "order": null,
            "_view_module_version": "1.2.0",
            "grid_template_areas": null,
            "object_position": null,
            "object_fit": null,
            "grid_auto_columns": null,
            "margin": null,
            "display": null,
            "left": null
          }
        },
        "05f95db7810146f9960d0a73fda0ebd5": {
          "model_module": "@jupyter-widgets/controls",
          "model_name": "FloatProgressModel",
          "state": {
            "_view_name": "ProgressView",
            "style": "IPY_MODEL_cae40e6c6f3d4632832425d465aa1577",
            "_dom_classes": [],
            "description": "Downloading: 100%",
            "_model_name": "FloatProgressModel",
            "bar_style": "success",
            "max": 1109913068,
            "_view_module": "@jupyter-widgets/controls",
            "_model_module_version": "1.5.0",
            "value": 1109913068,
            "_view_count": null,
            "_view_module_version": "1.5.0",
            "orientation": "horizontal",
            "min": 0,
            "description_tooltip": null,
            "_model_module": "@jupyter-widgets/controls",
            "layout": "IPY_MODEL_d1f37bdd270843058aa697d3a8c283dd"
          }
        },
        "7565a031fcc9412fa68a1fa81cff60d7": {
          "model_module": "@jupyter-widgets/controls",
          "model_name": "HTMLModel",
          "state": {
            "_view_name": "HTMLView",
            "style": "IPY_MODEL_d963f699ffc64f9bbc91d3eae1c00e51",
            "_dom_classes": [],
            "description": "",
            "_model_name": "HTMLModel",
            "placeholder": "​",
            "_view_module": "@jupyter-widgets/controls",
            "_model_module_version": "1.5.0",
            "value": " 1.11G/1.11G [01:42&lt;00:00, 10.8MB/s]",
            "_view_count": null,
            "_view_module_version": "1.5.0",
            "description_tooltip": null,
            "_model_module": "@jupyter-widgets/controls",
            "layout": "IPY_MODEL_a106779c645149de87849c0f0a0b93b1"
          }
        },
        "cae40e6c6f3d4632832425d465aa1577": {
          "model_module": "@jupyter-widgets/controls",
          "model_name": "ProgressStyleModel",
          "state": {
            "_view_name": "StyleView",
            "_model_name": "ProgressStyleModel",
            "description_width": "initial",
            "_view_module": "@jupyter-widgets/base",
            "_model_module_version": "1.5.0",
            "_view_count": null,
            "_view_module_version": "1.2.0",
            "bar_color": null,
            "_model_module": "@jupyter-widgets/controls"
          }
        },
        "d1f37bdd270843058aa697d3a8c283dd": {
          "model_module": "@jupyter-widgets/base",
          "model_name": "LayoutModel",
          "state": {
            "_view_name": "LayoutView",
            "grid_template_rows": null,
            "right": null,
            "justify_content": null,
            "_view_module": "@jupyter-widgets/base",
            "overflow": null,
            "_model_module_version": "1.2.0",
            "_view_count": null,
            "flex_flow": null,
            "width": null,
            "min_width": null,
            "border": null,
            "align_items": null,
            "bottom": null,
            "_model_module": "@jupyter-widgets/base",
            "top": null,
            "grid_column": null,
            "overflow_y": null,
            "overflow_x": null,
            "grid_auto_flow": null,
            "grid_area": null,
            "grid_template_columns": null,
            "flex": null,
            "_model_name": "LayoutModel",
            "justify_items": null,
            "grid_row": null,
            "max_height": null,
            "align_content": null,
            "visibility": null,
            "align_self": null,
            "height": null,
            "min_height": null,
            "padding": null,
            "grid_auto_rows": null,
            "grid_gap": null,
            "max_width": null,
            "order": null,
            "_view_module_version": "1.2.0",
            "grid_template_areas": null,
            "object_position": null,
            "object_fit": null,
            "grid_auto_columns": null,
            "margin": null,
            "display": null,
            "left": null
          }
        },
        "d963f699ffc64f9bbc91d3eae1c00e51": {
          "model_module": "@jupyter-widgets/controls",
          "model_name": "DescriptionStyleModel",
          "state": {
            "_view_name": "StyleView",
            "_model_name": "DescriptionStyleModel",
            "description_width": "",
            "_view_module": "@jupyter-widgets/base",
            "_model_module_version": "1.5.0",
            "_view_count": null,
            "_view_module_version": "1.2.0",
            "_model_module": "@jupyter-widgets/controls"
          }
        },
        "a106779c645149de87849c0f0a0b93b1": {
          "model_module": "@jupyter-widgets/base",
          "model_name": "LayoutModel",
          "state": {
            "_view_name": "LayoutView",
            "grid_template_rows": null,
            "right": null,
            "justify_content": null,
            "_view_module": "@jupyter-widgets/base",
            "overflow": null,
            "_model_module_version": "1.2.0",
            "_view_count": null,
            "flex_flow": null,
            "width": null,
            "min_width": null,
            "border": null,
            "align_items": null,
            "bottom": null,
            "_model_module": "@jupyter-widgets/base",
            "top": null,
            "grid_column": null,
            "overflow_y": null,
            "overflow_x": null,
            "grid_auto_flow": null,
            "grid_area": null,
            "grid_template_columns": null,
            "flex": null,
            "_model_name": "LayoutModel",
            "justify_items": null,
            "grid_row": null,
            "max_height": null,
            "align_content": null,
            "visibility": null,
            "align_self": null,
            "height": null,
            "min_height": null,
            "padding": null,
            "grid_auto_rows": null,
            "grid_gap": null,
            "max_width": null,
            "order": null,
            "_view_module_version": "1.2.0",
            "grid_template_areas": null,
            "object_position": null,
            "object_fit": null,
            "grid_auto_columns": null,
            "margin": null,
            "display": null,
            "left": null
          }
        },
        "fd1116a7084b4a6392ffc1d7407fa63e": {
          "model_module": "@jupyter-widgets/controls",
          "model_name": "HBoxModel",
          "state": {
            "_view_name": "HBoxView",
            "_dom_classes": [],
            "_model_name": "HBoxModel",
            "_view_module": "@jupyter-widgets/controls",
            "_model_module_version": "1.5.0",
            "_view_count": null,
            "_view_module_version": "1.5.0",
            "box_style": "",
            "layout": "IPY_MODEL_abb6c669bff241c58d23e99f2c997490",
            "_model_module": "@jupyter-widgets/controls",
            "children": [
              "IPY_MODEL_da924791b98e425bab690d6ed50708db",
              "IPY_MODEL_6ab7e7d871d14dd9a1f8cdc935cf561d"
            ]
          }
        },
        "abb6c669bff241c58d23e99f2c997490": {
          "model_module": "@jupyter-widgets/base",
          "model_name": "LayoutModel",
          "state": {
            "_view_name": "LayoutView",
            "grid_template_rows": null,
            "right": null,
            "justify_content": null,
            "_view_module": "@jupyter-widgets/base",
            "overflow": null,
            "_model_module_version": "1.2.0",
            "_view_count": null,
            "flex_flow": null,
            "width": null,
            "min_width": null,
            "border": null,
            "align_items": null,
            "bottom": null,
            "_model_module": "@jupyter-widgets/base",
            "top": null,
            "grid_column": null,
            "overflow_y": null,
            "overflow_x": null,
            "grid_auto_flow": null,
            "grid_area": null,
            "grid_template_columns": null,
            "flex": null,
            "_model_name": "LayoutModel",
            "justify_items": null,
            "grid_row": null,
            "max_height": null,
            "align_content": null,
            "visibility": null,
            "align_self": null,
            "height": null,
            "min_height": null,
            "padding": null,
            "grid_auto_rows": null,
            "grid_gap": null,
            "max_width": null,
            "order": null,
            "_view_module_version": "1.2.0",
            "grid_template_areas": null,
            "object_position": null,
            "object_fit": null,
            "grid_auto_columns": null,
            "margin": null,
            "display": null,
            "left": null
          }
        },
        "da924791b98e425bab690d6ed50708db": {
          "model_module": "@jupyter-widgets/controls",
          "model_name": "FloatProgressModel",
          "state": {
            "_view_name": "ProgressView",
            "style": "IPY_MODEL_b526889ecd694581a783bf311e10ae5c",
            "_dom_classes": [],
            "description": "Downloading: 100%",
            "_model_name": "FloatProgressModel",
            "bar_style": "success",
            "max": 5069051,
            "_view_module": "@jupyter-widgets/controls",
            "_model_module_version": "1.5.0",
            "value": 5069051,
            "_view_count": null,
            "_view_module_version": "1.5.0",
            "orientation": "horizontal",
            "min": 0,
            "description_tooltip": null,
            "_model_module": "@jupyter-widgets/controls",
            "layout": "IPY_MODEL_33717213263a4a3b9290aabf5ba38f35"
          }
        },
        "6ab7e7d871d14dd9a1f8cdc935cf561d": {
          "model_module": "@jupyter-widgets/controls",
          "model_name": "HTMLModel",
          "state": {
            "_view_name": "HTMLView",
            "style": "IPY_MODEL_d09e5fee4bd04582b2157f052a17ef80",
            "_dom_classes": [],
            "description": "",
            "_model_name": "HTMLModel",
            "placeholder": "​",
            "_view_module": "@jupyter-widgets/controls",
            "_model_module_version": "1.5.0",
            "value": " 5.07M/5.07M [00:05&lt;00:00, 885kB/s]",
            "_view_count": null,
            "_view_module_version": "1.5.0",
            "description_tooltip": null,
            "_model_module": "@jupyter-widgets/controls",
            "layout": "IPY_MODEL_81bb81f2127d4c809289e693f98310c1"
          }
        },
        "b526889ecd694581a783bf311e10ae5c": {
          "model_module": "@jupyter-widgets/controls",
          "model_name": "ProgressStyleModel",
          "state": {
            "_view_name": "StyleView",
            "_model_name": "ProgressStyleModel",
            "description_width": "initial",
            "_view_module": "@jupyter-widgets/base",
            "_model_module_version": "1.5.0",
            "_view_count": null,
            "_view_module_version": "1.2.0",
            "bar_color": null,
            "_model_module": "@jupyter-widgets/controls"
          }
        },
        "33717213263a4a3b9290aabf5ba38f35": {
          "model_module": "@jupyter-widgets/base",
          "model_name": "LayoutModel",
          "state": {
            "_view_name": "LayoutView",
            "grid_template_rows": null,
            "right": null,
            "justify_content": null,
            "_view_module": "@jupyter-widgets/base",
            "overflow": null,
            "_model_module_version": "1.2.0",
            "_view_count": null,
            "flex_flow": null,
            "width": null,
            "min_width": null,
            "border": null,
            "align_items": null,
            "bottom": null,
            "_model_module": "@jupyter-widgets/base",
            "top": null,
            "grid_column": null,
            "overflow_y": null,
            "overflow_x": null,
            "grid_auto_flow": null,
            "grid_area": null,
            "grid_template_columns": null,
            "flex": null,
            "_model_name": "LayoutModel",
            "justify_items": null,
            "grid_row": null,
            "max_height": null,
            "align_content": null,
            "visibility": null,
            "align_self": null,
            "height": null,
            "min_height": null,
            "padding": null,
            "grid_auto_rows": null,
            "grid_gap": null,
            "max_width": null,
            "order": null,
            "_view_module_version": "1.2.0",
            "grid_template_areas": null,
            "object_position": null,
            "object_fit": null,
            "grid_auto_columns": null,
            "margin": null,
            "display": null,
            "left": null
          }
        },
        "d09e5fee4bd04582b2157f052a17ef80": {
          "model_module": "@jupyter-widgets/controls",
          "model_name": "DescriptionStyleModel",
          "state": {
            "_view_name": "StyleView",
            "_model_name": "DescriptionStyleModel",
            "description_width": "",
            "_view_module": "@jupyter-widgets/base",
            "_model_module_version": "1.5.0",
            "_view_count": null,
            "_view_module_version": "1.2.0",
            "_model_module": "@jupyter-widgets/controls"
          }
        },
        "81bb81f2127d4c809289e693f98310c1": {
          "model_module": "@jupyter-widgets/base",
          "model_name": "LayoutModel",
          "state": {
            "_view_name": "LayoutView",
            "grid_template_rows": null,
            "right": null,
            "justify_content": null,
            "_view_module": "@jupyter-widgets/base",
            "overflow": null,
            "_model_module_version": "1.2.0",
            "_view_count": null,
            "flex_flow": null,
            "width": null,
            "min_width": null,
            "border": null,
            "align_items": null,
            "bottom": null,
            "_model_module": "@jupyter-widgets/base",
            "top": null,
            "grid_column": null,
            "overflow_y": null,
            "overflow_x": null,
            "grid_auto_flow": null,
            "grid_area": null,
            "grid_template_columns": null,
            "flex": null,
            "_model_name": "LayoutModel",
            "justify_items": null,
            "grid_row": null,
            "max_height": null,
            "align_content": null,
            "visibility": null,
            "align_self": null,
            "height": null,
            "min_height": null,
            "padding": null,
            "grid_auto_rows": null,
            "grid_gap": null,
            "max_width": null,
            "order": null,
            "_view_module_version": "1.2.0",
            "grid_template_areas": null,
            "object_position": null,
            "object_fit": null,
            "grid_auto_columns": null,
            "margin": null,
            "display": null,
            "left": null
          }
        },
        "5acf538cd4004a969a2c882c7ea4a116": {
          "model_module": "@jupyter-widgets/controls",
          "model_name": "HBoxModel",
          "state": {
            "_view_name": "HBoxView",
            "_dom_classes": [],
            "_model_name": "HBoxModel",
            "_view_module": "@jupyter-widgets/controls",
            "_model_module_version": "1.5.0",
            "_view_count": null,
            "_view_module_version": "1.5.0",
            "box_style": "",
            "layout": "IPY_MODEL_f4b5f880e397413da50b55ad78f55fe3",
            "_model_module": "@jupyter-widgets/controls",
            "children": [
              "IPY_MODEL_af9b4d51d9a04b99be413aa71bea5928",
              "IPY_MODEL_a8e9031c8caf4f648dbd8724b2e9d1c8"
            ]
          }
        },
        "f4b5f880e397413da50b55ad78f55fe3": {
          "model_module": "@jupyter-widgets/base",
          "model_name": "LayoutModel",
          "state": {
            "_view_name": "LayoutView",
            "grid_template_rows": null,
            "right": null,
            "justify_content": null,
            "_view_module": "@jupyter-widgets/base",
            "overflow": null,
            "_model_module_version": "1.2.0",
            "_view_count": null,
            "flex_flow": null,
            "width": null,
            "min_width": null,
            "border": null,
            "align_items": null,
            "bottom": null,
            "_model_module": "@jupyter-widgets/base",
            "top": null,
            "grid_column": null,
            "overflow_y": null,
            "overflow_x": null,
            "grid_auto_flow": null,
            "grid_area": null,
            "grid_template_columns": null,
            "flex": null,
            "_model_name": "LayoutModel",
            "justify_items": null,
            "grid_row": null,
            "max_height": null,
            "align_content": null,
            "visibility": null,
            "align_self": null,
            "height": null,
            "min_height": null,
            "padding": null,
            "grid_auto_rows": null,
            "grid_gap": null,
            "max_width": null,
            "order": null,
            "_view_module_version": "1.2.0",
            "grid_template_areas": null,
            "object_position": null,
            "object_fit": null,
            "grid_auto_columns": null,
            "margin": null,
            "display": null,
            "left": null
          }
        },
        "af9b4d51d9a04b99be413aa71bea5928": {
          "model_module": "@jupyter-widgets/controls",
          "model_name": "FloatProgressModel",
          "state": {
            "_view_name": "ProgressView",
            "style": "IPY_MODEL_d1a03db09a124c8cb6471bf9a43ea0d8",
            "_dom_classes": [],
            "description": "Downloading: 100%",
            "_model_name": "FloatProgressModel",
            "bar_style": "success",
            "max": 150,
            "_view_module": "@jupyter-widgets/controls",
            "_model_module_version": "1.5.0",
            "value": 150,
            "_view_count": null,
            "_view_module_version": "1.5.0",
            "orientation": "horizontal",
            "min": 0,
            "description_tooltip": null,
            "_model_module": "@jupyter-widgets/controls",
            "layout": "IPY_MODEL_7df9b1368eaf405d822d853b00cdb5bf"
          }
        },
        "a8e9031c8caf4f648dbd8724b2e9d1c8": {
          "model_module": "@jupyter-widgets/controls",
          "model_name": "HTMLModel",
          "state": {
            "_view_name": "HTMLView",
            "style": "IPY_MODEL_d3edd295f5eb45e688a8dbebfbb94d72",
            "_dom_classes": [],
            "description": "",
            "_model_name": "HTMLModel",
            "placeholder": "​",
            "_view_module": "@jupyter-widgets/controls",
            "_model_module_version": "1.5.0",
            "value": " 150/150 [00:01&lt;00:00, 105B/s]",
            "_view_count": null,
            "_view_module_version": "1.5.0",
            "description_tooltip": null,
            "_model_module": "@jupyter-widgets/controls",
            "layout": "IPY_MODEL_25b93e1f0f7d48508a52bb4449c44e49"
          }
        },
        "d1a03db09a124c8cb6471bf9a43ea0d8": {
          "model_module": "@jupyter-widgets/controls",
          "model_name": "ProgressStyleModel",
          "state": {
            "_view_name": "StyleView",
            "_model_name": "ProgressStyleModel",
            "description_width": "initial",
            "_view_module": "@jupyter-widgets/base",
            "_model_module_version": "1.5.0",
            "_view_count": null,
            "_view_module_version": "1.2.0",
            "bar_color": null,
            "_model_module": "@jupyter-widgets/controls"
          }
        },
        "7df9b1368eaf405d822d853b00cdb5bf": {
          "model_module": "@jupyter-widgets/base",
          "model_name": "LayoutModel",
          "state": {
            "_view_name": "LayoutView",
            "grid_template_rows": null,
            "right": null,
            "justify_content": null,
            "_view_module": "@jupyter-widgets/base",
            "overflow": null,
            "_model_module_version": "1.2.0",
            "_view_count": null,
            "flex_flow": null,
            "width": null,
            "min_width": null,
            "border": null,
            "align_items": null,
            "bottom": null,
            "_model_module": "@jupyter-widgets/base",
            "top": null,
            "grid_column": null,
            "overflow_y": null,
            "overflow_x": null,
            "grid_auto_flow": null,
            "grid_area": null,
            "grid_template_columns": null,
            "flex": null,
            "_model_name": "LayoutModel",
            "justify_items": null,
            "grid_row": null,
            "max_height": null,
            "align_content": null,
            "visibility": null,
            "align_self": null,
            "height": null,
            "min_height": null,
            "padding": null,
            "grid_auto_rows": null,
            "grid_gap": null,
            "max_width": null,
            "order": null,
            "_view_module_version": "1.2.0",
            "grid_template_areas": null,
            "object_position": null,
            "object_fit": null,
            "grid_auto_columns": null,
            "margin": null,
            "display": null,
            "left": null
          }
        },
        "d3edd295f5eb45e688a8dbebfbb94d72": {
          "model_module": "@jupyter-widgets/controls",
          "model_name": "DescriptionStyleModel",
          "state": {
            "_view_name": "StyleView",
            "_model_name": "DescriptionStyleModel",
            "description_width": "",
            "_view_module": "@jupyter-widgets/base",
            "_model_module_version": "1.5.0",
            "_view_count": null,
            "_view_module_version": "1.2.0",
            "_model_module": "@jupyter-widgets/controls"
          }
        },
        "25b93e1f0f7d48508a52bb4449c44e49": {
          "model_module": "@jupyter-widgets/base",
          "model_name": "LayoutModel",
          "state": {
            "_view_name": "LayoutView",
            "grid_template_rows": null,
            "right": null,
            "justify_content": null,
            "_view_module": "@jupyter-widgets/base",
            "overflow": null,
            "_model_module_version": "1.2.0",
            "_view_count": null,
            "flex_flow": null,
            "width": null,
            "min_width": null,
            "border": null,
            "align_items": null,
            "bottom": null,
            "_model_module": "@jupyter-widgets/base",
            "top": null,
            "grid_column": null,
            "overflow_y": null,
            "overflow_x": null,
            "grid_auto_flow": null,
            "grid_area": null,
            "grid_template_columns": null,
            "flex": null,
            "_model_name": "LayoutModel",
            "justify_items": null,
            "grid_row": null,
            "max_height": null,
            "align_content": null,
            "visibility": null,
            "align_self": null,
            "height": null,
            "min_height": null,
            "padding": null,
            "grid_auto_rows": null,
            "grid_gap": null,
            "max_width": null,
            "order": null,
            "_view_module_version": "1.2.0",
            "grid_template_areas": null,
            "object_position": null,
            "object_fit": null,
            "grid_auto_columns": null,
            "margin": null,
            "display": null,
            "left": null
          }
        },
        "9a7657a853b9489eaf6281a50a7264b7": {
          "model_module": "@jupyter-widgets/controls",
          "model_name": "HBoxModel",
          "state": {
            "_view_name": "HBoxView",
            "_dom_classes": [],
            "_model_name": "HBoxModel",
            "_view_module": "@jupyter-widgets/controls",
            "_model_module_version": "1.5.0",
            "_view_count": null,
            "_view_module_version": "1.5.0",
            "box_style": "",
            "layout": "IPY_MODEL_f812562dd93c4c73afa9f075dd46baff",
            "_model_module": "@jupyter-widgets/controls",
            "children": [
              "IPY_MODEL_644851a5fa3f4c0894a02efbce746e19",
              "IPY_MODEL_b3c912e29dcc45419c17fdf4ab089e7a"
            ]
          }
        },
        "f812562dd93c4c73afa9f075dd46baff": {
          "model_module": "@jupyter-widgets/base",
          "model_name": "LayoutModel",
          "state": {
            "_view_name": "LayoutView",
            "grid_template_rows": null,
            "right": null,
            "justify_content": null,
            "_view_module": "@jupyter-widgets/base",
            "overflow": null,
            "_model_module_version": "1.2.0",
            "_view_count": null,
            "flex_flow": null,
            "width": null,
            "min_width": null,
            "border": null,
            "align_items": null,
            "bottom": null,
            "_model_module": "@jupyter-widgets/base",
            "top": null,
            "grid_column": null,
            "overflow_y": null,
            "overflow_x": null,
            "grid_auto_flow": null,
            "grid_area": null,
            "grid_template_columns": null,
            "flex": null,
            "_model_name": "LayoutModel",
            "justify_items": null,
            "grid_row": null,
            "max_height": null,
            "align_content": null,
            "visibility": null,
            "align_self": null,
            "height": null,
            "min_height": null,
            "padding": null,
            "grid_auto_rows": null,
            "grid_gap": null,
            "max_width": null,
            "order": null,
            "_view_module_version": "1.2.0",
            "grid_template_areas": null,
            "object_position": null,
            "object_fit": null,
            "grid_auto_columns": null,
            "margin": null,
            "display": null,
            "left": null
          }
        },
        "644851a5fa3f4c0894a02efbce746e19": {
          "model_module": "@jupyter-widgets/controls",
          "model_name": "FloatProgressModel",
          "state": {
            "_view_name": "ProgressView",
            "style": "IPY_MODEL_fa561c49be124523b47166ae3d029602",
            "_dom_classes": [],
            "description": "Downloading: 100%",
            "_model_name": "FloatProgressModel",
            "bar_style": "success",
            "max": 211,
            "_view_module": "@jupyter-widgets/controls",
            "_model_module_version": "1.5.0",
            "value": 211,
            "_view_count": null,
            "_view_module_version": "1.5.0",
            "orientation": "horizontal",
            "min": 0,
            "description_tooltip": null,
            "_model_module": "@jupyter-widgets/controls",
            "layout": "IPY_MODEL_fbbd5752c5d847c098ead7e80394a8a6"
          }
        },
        "b3c912e29dcc45419c17fdf4ab089e7a": {
          "model_module": "@jupyter-widgets/controls",
          "model_name": "HTMLModel",
          "state": {
            "_view_name": "HTMLView",
            "style": "IPY_MODEL_000526a8858f4e77b81ef9fb59bda680",
            "_dom_classes": [],
            "description": "",
            "_model_name": "HTMLModel",
            "placeholder": "​",
            "_view_module": "@jupyter-widgets/controls",
            "_model_module_version": "1.5.0",
            "value": " 211/211 [00:00&lt;00:00, 294B/s]",
            "_view_count": null,
            "_view_module_version": "1.5.0",
            "description_tooltip": null,
            "_model_module": "@jupyter-widgets/controls",
            "layout": "IPY_MODEL_f425bb5ecc3c4d3ebbf670e846c17eb7"
          }
        },
        "fa561c49be124523b47166ae3d029602": {
          "model_module": "@jupyter-widgets/controls",
          "model_name": "ProgressStyleModel",
          "state": {
            "_view_name": "StyleView",
            "_model_name": "ProgressStyleModel",
            "description_width": "initial",
            "_view_module": "@jupyter-widgets/base",
            "_model_module_version": "1.5.0",
            "_view_count": null,
            "_view_module_version": "1.2.0",
            "bar_color": null,
            "_model_module": "@jupyter-widgets/controls"
          }
        },
        "fbbd5752c5d847c098ead7e80394a8a6": {
          "model_module": "@jupyter-widgets/base",
          "model_name": "LayoutModel",
          "state": {
            "_view_name": "LayoutView",
            "grid_template_rows": null,
            "right": null,
            "justify_content": null,
            "_view_module": "@jupyter-widgets/base",
            "overflow": null,
            "_model_module_version": "1.2.0",
            "_view_count": null,
            "flex_flow": null,
            "width": null,
            "min_width": null,
            "border": null,
            "align_items": null,
            "bottom": null,
            "_model_module": "@jupyter-widgets/base",
            "top": null,
            "grid_column": null,
            "overflow_y": null,
            "overflow_x": null,
            "grid_auto_flow": null,
            "grid_area": null,
            "grid_template_columns": null,
            "flex": null,
            "_model_name": "LayoutModel",
            "justify_items": null,
            "grid_row": null,
            "max_height": null,
            "align_content": null,
            "visibility": null,
            "align_self": null,
            "height": null,
            "min_height": null,
            "padding": null,
            "grid_auto_rows": null,
            "grid_gap": null,
            "max_width": null,
            "order": null,
            "_view_module_version": "1.2.0",
            "grid_template_areas": null,
            "object_position": null,
            "object_fit": null,
            "grid_auto_columns": null,
            "margin": null,
            "display": null,
            "left": null
          }
        },
        "000526a8858f4e77b81ef9fb59bda680": {
          "model_module": "@jupyter-widgets/controls",
          "model_name": "DescriptionStyleModel",
          "state": {
            "_view_name": "StyleView",
            "_model_name": "DescriptionStyleModel",
            "description_width": "",
            "_view_module": "@jupyter-widgets/base",
            "_model_module_version": "1.5.0",
            "_view_count": null,
            "_view_module_version": "1.2.0",
            "_model_module": "@jupyter-widgets/controls"
          }
        },
        "f425bb5ecc3c4d3ebbf670e846c17eb7": {
          "model_module": "@jupyter-widgets/base",
          "model_name": "LayoutModel",
          "state": {
            "_view_name": "LayoutView",
            "grid_template_rows": null,
            "right": null,
            "justify_content": null,
            "_view_module": "@jupyter-widgets/base",
            "overflow": null,
            "_model_module_version": "1.2.0",
            "_view_count": null,
            "flex_flow": null,
            "width": null,
            "min_width": null,
            "border": null,
            "align_items": null,
            "bottom": null,
            "_model_module": "@jupyter-widgets/base",
            "top": null,
            "grid_column": null,
            "overflow_y": null,
            "overflow_x": null,
            "grid_auto_flow": null,
            "grid_area": null,
            "grid_template_columns": null,
            "flex": null,
            "_model_name": "LayoutModel",
            "justify_items": null,
            "grid_row": null,
            "max_height": null,
            "align_content": null,
            "visibility": null,
            "align_self": null,
            "height": null,
            "min_height": null,
            "padding": null,
            "grid_auto_rows": null,
            "grid_gap": null,
            "max_width": null,
            "order": null,
            "_view_module_version": "1.2.0",
            "grid_template_areas": null,
            "object_position": null,
            "object_fit": null,
            "grid_auto_columns": null,
            "margin": null,
            "display": null,
            "left": null
          }
        }
      }
    }
  },
  "cells": [
    {
      "cell_type": "markdown",
      "metadata": {
        "id": "view-in-github",
        "colab_type": "text"
      },
      "source": [
        "<a href=\"https://colab.research.google.com/github/dilaratank/roBERTa-Symptom-Tracking/blob/main/Symptom_Tracking.ipynb\" target=\"_parent\"><img src=\"https://colab.research.google.com/assets/colab-badge.svg\" alt=\"Open In Colab\"/></a>"
      ]
    },
    {
      "cell_type": "markdown",
      "metadata": {
        "id": "respected-indie"
      },
      "source": [
        "# Introduction"
      ],
      "id": "respected-indie"
    },
    {
      "cell_type": "markdown",
      "metadata": {
        "id": "emotional-produce"
      },
      "source": [
        "## Motivation\n",
        "\n",
        "The COVID-19 pandemic is a challenging time for all of us. AI-models in NLP could help process COVID-19 information in medical interviews more interpretable and visual. This research will focus on symptom extraction from medical dialogue before and after COVID-19.  "
      ],
      "id": "emotional-produce"
    },
    {
      "cell_type": "markdown",
      "metadata": {
        "id": "casual-technology"
      },
      "source": [
        "## RQs\n",
        "\n",
        "What are the most common symptoms before and after COVID-19 in medical interviews? "
      ],
      "id": "casual-technology"
    },
    {
      "cell_type": "markdown",
      "metadata": {
        "id": "changing-private"
      },
      "source": [
        "## Example as a task illustration\n",
        "\n",
        "The code is designed to work as follows:\n",
        "- Feed it a medical dialogue, where symptoms are discussed\n",
        "- The code will extract the symptoms\n",
        "- The code will display the most common symptoms in that conversation\n",
        "\n",
        "An example can be illustrated with the following conversation: \\\n",
        "Patient: Hello doctor, these last few days I have been __coughing__ a lot. \\\n",
        "Doctor: That is unfortunate to hear, do you have any other symptoms like __sore throat__, __chest pains__, etc? \\\n",
        "Patient: I have a __cough__ and in addition to that also a __sore throat__, but that's about it. \\\n",
        "Doctor: Alright, a __cough__ and a __sore throat__ are symptoms of the Coronavirus but because of the time of year I assume you just have a __cold__. It is advised to take a test and take medicine for your __cough__ and __sore throat__. \n",
        "\n",
        "The model would then output 'cough' and 'sore throat' as most common symtpoms discussed in this dialogue. "
      ],
      "id": "changing-private"
    },
    {
      "cell_type": "markdown",
      "metadata": {
        "id": "funded-gardening"
      },
      "source": [
        "## Related literature\n",
        "__Transformers__: A transformer model is used in Natural Language Processing (NLP) for sequence-to-sequence tasks such as language translation (Vaswani et al., 2017). Transformer models apply an attention mechanism, where the model determines which parts of an input sequence are important. This results in understanding relationships between all words in a sentence, without having to worry about their respective position. Transformers consist of an encoder that maps the input sequence into a higher dimensional space and a decoder that produces an output sequence, for example a translation of the input sequence. Because the encoder reads the whole input sequence at once, instead of reading the input from left to right or right to left, it is considered bidirectional. \n",
        "\n",
        "__BERT__: BERT (Bidirectional Encoder Representations from Transformers) is a language representation model that applies the bidirectional training of Transformers to language modelling (Devlin et al., 2018). Because of the bidirectionality, the model learns the context of a word based on all of its surroundings, instead of just the previous words. This allows for a deeper understanding of words and sentences. Using the fact that BERT can capture a deeper understanding of words and sentences, it can be applied to multiple NLP tasks by fine-tuning the model by adding a new layer on top of the model. The architecture of the new layer depends on the tasks one wants to do. \n",
        "\n",
        "\n",
        "__RoBERTa__: RoBERTa is an extension of the BERT model, it is trained longer and on more data, providing a stronger core model (Liu et al., 2019). For NLP tasks, adding an additional layer on top is still possible. \n",
        "\n",
        "__NER__: NER (Named Entity Recognition) tries to classify named entities mentioned in text to certain categories such as person, location, disease or symptom. It is explained before that a new layer is needed for the BERT or roBERTa model to perform NLP tasks. In the case of NER, this additional layer is a randomly initialized classifier (Vamvas, 2019). After training, this classifier outputs the most likely category of the words in the input sequence.  "
      ],
      "id": "funded-gardening"
    },
    {
      "cell_type": "markdown",
      "metadata": {
        "id": "stopped-excerpt"
      },
      "source": [
        "# Experimental Setup"
      ],
      "id": "stopped-excerpt"
    },
    {
      "cell_type": "markdown",
      "metadata": {
        "id": "dNsZYqRbXzSp"
      },
      "source": [
        "Let's first get access to all the data. "
      ],
      "id": "dNsZYqRbXzSp"
    },
    {
      "cell_type": "code",
      "metadata": {
        "colab": {
          "base_uri": "https://localhost:8080/"
        },
        "id": "qzSPYAWlX1hQ",
        "outputId": "4220650a-817d-4718-88a6-c8a3c799c762"
      },
      "source": [
        "!git clone https://github.com/dilaratank/roBERTa-Symptom-Tracking.git"
      ],
      "id": "qzSPYAWlX1hQ",
      "execution_count": 1,
      "outputs": [
        {
          "output_type": "stream",
          "text": [
            "Cloning into 'roBERTa-Symptom-Tracking'...\n",
            "remote: Enumerating objects: 45, done.\u001b[K\n",
            "remote: Counting objects: 100% (45/45), done.\u001b[K\n",
            "remote: Compressing objects: 100% (35/35), done.\u001b[K\n",
            "remote: Total 45 (delta 11), reused 22 (delta 7), pack-reused 0\u001b[K\n",
            "Unpacking objects: 100% (45/45), done.\n"
          ],
          "name": "stdout"
        }
      ]
    },
    {
      "cell_type": "markdown",
      "metadata": {
        "id": "piano-destruction"
      },
      "source": [
        "T-NER (https://github.com/asahi417/tner) is a python tool for language model finetuning on NER. It provides pre-trained RoBERTa models, including the pre-trained RoBERTa bc5cdr model. The bc5cdr dataset (Wei et al., 2015) consists of 1500 PubMed articles that are annotated for biomedical usage (chemicals, diseases, etc.). "
      ],
      "id": "piano-destruction"
    },
    {
      "cell_type": "code",
      "metadata": {
        "colab": {
          "base_uri": "https://localhost:8080/",
          "height": 1000
        },
        "id": "4DiSRkS1YSO2",
        "outputId": "17b979e6-60b0-410e-95cc-67d70ed074cc"
      },
      "source": [
        "# Installations \n",
        "!pip install pip -U\n",
        "!pip install sentencepiece\n",
        "!pip install sortedcontainers==2.1.0\n",
        "!pip install tner "
      ],
      "id": "4DiSRkS1YSO2",
      "execution_count": 2,
      "outputs": [
        {
          "output_type": "stream",
          "text": [
            "Collecting pip\n",
            "\u001b[?25l  Downloading https://files.pythonhosted.org/packages/fe/ef/60d7ba03b5c442309ef42e7d69959f73aacccd0d86008362a681c4698e83/pip-21.0.1-py3-none-any.whl (1.5MB)\n",
            "\u001b[K     |████████████████████████████████| 1.5MB 4.1MB/s \n",
            "\u001b[?25hInstalling collected packages: pip\n",
            "  Found existing installation: pip 19.3.1\n",
            "    Uninstalling pip-19.3.1:\n",
            "      Successfully uninstalled pip-19.3.1\n",
            "Successfully installed pip-21.0.1\n",
            "Collecting sentencepiece\n",
            "  Downloading sentencepiece-0.1.95-cp37-cp37m-manylinux2014_x86_64.whl (1.2 MB)\n",
            "\u001b[K     |████████████████████████████████| 1.2 MB 4.1 MB/s \n",
            "\u001b[?25hInstalling collected packages: sentencepiece\n",
            "Successfully installed sentencepiece-0.1.95\n",
            "Collecting sortedcontainers==2.1.0\n",
            "  Downloading sortedcontainers-2.1.0-py2.py3-none-any.whl (28 kB)\n",
            "Installing collected packages: sortedcontainers\n",
            "  Attempting uninstall: sortedcontainers\n",
            "    Found existing installation: sortedcontainers 2.3.0\n",
            "    Uninstalling sortedcontainers-2.3.0:\n",
            "      Successfully uninstalled sortedcontainers-2.3.0\n",
            "Successfully installed sortedcontainers-2.1.0\n",
            "Collecting tner\n",
            "  Downloading tner-0.0.4.tar.gz (27 kB)\n",
            "Collecting Pillow>=7.1.0\n",
            "  Downloading Pillow-8.1.1-cp37-cp37m-manylinux1_x86_64.whl (2.2 MB)\n",
            "\u001b[K     |████████████████████████████████| 2.2 MB 7.0 MB/s \n",
            "\u001b[?25hCollecting sudachipy\n",
            "  Downloading SudachiPy-0.5.1.tar.gz (69 kB)\n",
            "\u001b[K     |████████████████████████████████| 69 kB 6.8 MB/s \n",
            "\u001b[?25hCollecting sudachidict_core\n",
            "  Downloading SudachiDict-core-20201223.post1.tar.gz (8.8 kB)\n",
            "Collecting uvicorn==0.11.8\n",
            "  Downloading uvicorn-0.11.8-py3-none-any.whl (43 kB)\n",
            "\u001b[K     |████████████████████████████████| 43 kB 2.0 MB/s \n",
            "\u001b[?25hCollecting jinja2==2.11.2\n",
            "  Downloading Jinja2-2.11.2-py2.py3-none-any.whl (125 kB)\n",
            "\u001b[K     |████████████████████████████████| 125 kB 28.2 MB/s \n",
            "\u001b[?25hCollecting aiofiles==0.5.0\n",
            "  Downloading aiofiles-0.5.0-py3-none-any.whl (11 kB)\n",
            "Collecting fastapi==0.61.0\n",
            "  Downloading fastapi-0.61.0-py3-none-any.whl (48 kB)\n",
            "\u001b[K     |████████████████████████████████| 48 kB 5.2 MB/s \n",
            "\u001b[?25hCollecting matplotlib==3.3.1\n",
            "  Downloading matplotlib-3.3.1-cp37-cp37m-manylinux1_x86_64.whl (11.6 MB)\n",
            "\u001b[K     |████████████████████████████████| 11.6 MB 22.0 MB/s \n",
            "\u001b[?25hRequirement already satisfied: toml in /usr/local/lib/python3.7/dist-packages (from tner) (0.10.2)\n",
            "Requirement already satisfied: tensorboard in /usr/local/lib/python3.7/dist-packages (from tner) (2.4.1)\n",
            "Requirement already satisfied: torch in /usr/local/lib/python3.7/dist-packages (from tner) (1.7.1+cu101)\n",
            "Collecting transformers\n",
            "  Downloading transformers-4.3.3-py3-none-any.whl (1.9 MB)\n",
            "\u001b[K     |████████████████████████████████| 1.9 MB 50.3 MB/s \n",
            "\u001b[?25hRequirement already satisfied: sentencepiece in /usr/local/lib/python3.7/dist-packages (from tner) (0.1.95)\n",
            "Collecting seqeval\n",
            "  Downloading seqeval-1.2.2.tar.gz (43 kB)\n",
            "\u001b[K     |████████████████████████████████| 43 kB 2.1 MB/s \n",
            "\u001b[?25hCollecting segtok\n",
            "  Downloading segtok-1.5.10.tar.gz (25 kB)\n",
            "Collecting starlette==0.13.6\n",
            "  Downloading starlette-0.13.6-py3-none-any.whl (59 kB)\n",
            "\u001b[K     |████████████████████████████████| 59 kB 6.7 MB/s \n",
            "\u001b[?25hCollecting pydantic<2.0.0,>=1.0.0\n",
            "  Downloading pydantic-1.8.1-cp37-cp37m-manylinux2014_x86_64.whl (10.1 MB)\n",
            "\u001b[K     |████████████████████████████████| 10.1 MB 43.2 MB/s \n",
            "\u001b[?25hRequirement already satisfied: MarkupSafe>=0.23 in /usr/local/lib/python3.7/dist-packages (from jinja2==2.11.2->tner) (1.1.1)\n",
            "Requirement already satisfied: python-dateutil>=2.1 in /usr/local/lib/python3.7/dist-packages (from matplotlib==3.3.1->tner) (2.8.1)\n",
            "Requirement already satisfied: pyparsing!=2.0.4,!=2.1.2,!=2.1.6,>=2.0.3 in /usr/local/lib/python3.7/dist-packages (from matplotlib==3.3.1->tner) (2.4.7)\n",
            "Requirement already satisfied: certifi>=2020.06.20 in /usr/local/lib/python3.7/dist-packages (from matplotlib==3.3.1->tner) (2020.12.5)\n",
            "Requirement already satisfied: numpy>=1.15 in /usr/local/lib/python3.7/dist-packages (from matplotlib==3.3.1->tner) (1.19.5)\n",
            "Requirement already satisfied: kiwisolver>=1.0.1 in /usr/local/lib/python3.7/dist-packages (from matplotlib==3.3.1->tner) (1.3.1)\n",
            "Requirement already satisfied: cycler>=0.10 in /usr/local/lib/python3.7/dist-packages (from matplotlib==3.3.1->tner) (0.10.0)\n",
            "Collecting httptools==0.1.*\n",
            "  Downloading httptools-0.1.1-cp37-cp37m-manylinux1_x86_64.whl (217 kB)\n",
            "\u001b[K     |████████████████████████████████| 217 kB 48.8 MB/s \n",
            "\u001b[?25hCollecting h11<0.10,>=0.8\n",
            "  Downloading h11-0.9.0-py2.py3-none-any.whl (53 kB)\n",
            "\u001b[K     |████████████████████████████████| 53 kB 2.3 MB/s \n",
            "\u001b[?25hCollecting uvloop>=0.14.0\n",
            "  Downloading uvloop-0.15.2-cp37-cp37m-manylinux2010_x86_64.whl (3.8 MB)\n",
            "\u001b[K     |████████████████████████████████| 3.8 MB 45.2 MB/s \n",
            "\u001b[?25hCollecting websockets==8.*\n",
            "  Downloading websockets-8.1-cp37-cp37m-manylinux2010_x86_64.whl (79 kB)\n",
            "\u001b[K     |████████████████████████████████| 79 kB 8.1 MB/s \n",
            "\u001b[?25hRequirement already satisfied: click==7.* in /usr/local/lib/python3.7/dist-packages (from uvicorn==0.11.8->tner) (7.1.2)\n",
            "Requirement already satisfied: six in /usr/local/lib/python3.7/dist-packages (from cycler>=0.10->matplotlib==3.3.1->tner) (1.15.0)\n",
            "Requirement already satisfied: typing-extensions>=3.7.4.3 in /usr/local/lib/python3.7/dist-packages (from pydantic<2.0.0,>=1.0.0->fastapi==0.61.0->tner) (3.7.4.3)\n",
            "Requirement already satisfied: regex in /usr/local/lib/python3.7/dist-packages (from segtok->tner) (2019.12.20)\n",
            "Requirement already satisfied: scikit-learn>=0.21.3 in /usr/local/lib/python3.7/dist-packages (from seqeval->tner) (0.22.2.post1)\n",
            "Requirement already satisfied: joblib>=0.11 in /usr/local/lib/python3.7/dist-packages (from scikit-learn>=0.21.3->seqeval->tner) (1.0.1)\n",
            "Requirement already satisfied: scipy>=0.17.0 in /usr/local/lib/python3.7/dist-packages (from scikit-learn>=0.21.3->seqeval->tner) (1.4.1)\n",
            "Requirement already satisfied: sortedcontainers~=2.1.0 in /usr/local/lib/python3.7/dist-packages (from sudachipy->tner) (2.1.0)\n",
            "Collecting dartsclone~=0.9.0\n",
            "  Downloading dartsclone-0.9.0-cp37-cp37m-manylinux1_x86_64.whl (473 kB)\n",
            "\u001b[K     |████████████████████████████████| 473 kB 51.5 MB/s \n",
            "\u001b[?25hRequirement already satisfied: Cython in /usr/local/lib/python3.7/dist-packages (from dartsclone~=0.9.0->sudachipy->tner) (0.29.22)\n",
            "Requirement already satisfied: requests<3,>=2.21.0 in /usr/local/lib/python3.7/dist-packages (from tensorboard->tner) (2.23.0)\n",
            "Requirement already satisfied: setuptools>=41.0.0 in /usr/local/lib/python3.7/dist-packages (from tensorboard->tner) (54.0.0)\n",
            "Requirement already satisfied: absl-py>=0.4 in /usr/local/lib/python3.7/dist-packages (from tensorboard->tner) (0.10.0)\n",
            "Requirement already satisfied: wheel>=0.26 in /usr/local/lib/python3.7/dist-packages (from tensorboard->tner) (0.36.2)\n",
            "Requirement already satisfied: google-auth<2,>=1.6.3 in /usr/local/lib/python3.7/dist-packages (from tensorboard->tner) (1.27.0)\n",
            "Requirement already satisfied: tensorboard-plugin-wit>=1.6.0 in /usr/local/lib/python3.7/dist-packages (from tensorboard->tner) (1.8.0)\n",
            "Requirement already satisfied: werkzeug>=0.11.15 in /usr/local/lib/python3.7/dist-packages (from tensorboard->tner) (1.0.1)\n",
            "Requirement already satisfied: protobuf>=3.6.0 in /usr/local/lib/python3.7/dist-packages (from tensorboard->tner) (3.12.4)\n",
            "Requirement already satisfied: grpcio>=1.24.3 in /usr/local/lib/python3.7/dist-packages (from tensorboard->tner) (1.32.0)\n",
            "Requirement already satisfied: google-auth-oauthlib<0.5,>=0.4.1 in /usr/local/lib/python3.7/dist-packages (from tensorboard->tner) (0.4.2)\n",
            "Requirement already satisfied: markdown>=2.6.8 in /usr/local/lib/python3.7/dist-packages (from tensorboard->tner) (3.3.4)\n",
            "Requirement already satisfied: rsa<5,>=3.1.4 in /usr/local/lib/python3.7/dist-packages (from google-auth<2,>=1.6.3->tensorboard->tner) (4.7.2)\n",
            "Requirement already satisfied: cachetools<5.0,>=2.0.0 in /usr/local/lib/python3.7/dist-packages (from google-auth<2,>=1.6.3->tensorboard->tner) (4.2.1)\n",
            "Requirement already satisfied: pyasn1-modules>=0.2.1 in /usr/local/lib/python3.7/dist-packages (from google-auth<2,>=1.6.3->tensorboard->tner) (0.2.8)\n",
            "Requirement already satisfied: requests-oauthlib>=0.7.0 in /usr/local/lib/python3.7/dist-packages (from google-auth-oauthlib<0.5,>=0.4.1->tensorboard->tner) (1.3.0)\n",
            "Requirement already satisfied: importlib-metadata in /usr/local/lib/python3.7/dist-packages (from markdown>=2.6.8->tensorboard->tner) (3.7.0)\n",
            "Requirement already satisfied: pyasn1<0.5.0,>=0.4.6 in /usr/local/lib/python3.7/dist-packages (from pyasn1-modules>=0.2.1->google-auth<2,>=1.6.3->tensorboard->tner) (0.4.8)\n",
            "Requirement already satisfied: urllib3!=1.25.0,!=1.25.1,<1.26,>=1.21.1 in /usr/local/lib/python3.7/dist-packages (from requests<3,>=2.21.0->tensorboard->tner) (1.24.3)\n",
            "Requirement already satisfied: chardet<4,>=3.0.2 in /usr/local/lib/python3.7/dist-packages (from requests<3,>=2.21.0->tensorboard->tner) (3.0.4)\n",
            "Requirement already satisfied: idna<3,>=2.5 in /usr/local/lib/python3.7/dist-packages (from requests<3,>=2.21.0->tensorboard->tner) (2.10)\n",
            "Requirement already satisfied: oauthlib>=3.0.0 in /usr/local/lib/python3.7/dist-packages (from requests-oauthlib>=0.7.0->google-auth-oauthlib<0.5,>=0.4.1->tensorboard->tner) (3.1.0)\n",
            "Requirement already satisfied: zipp>=0.5 in /usr/local/lib/python3.7/dist-packages (from importlib-metadata->markdown>=2.6.8->tensorboard->tner) (3.4.0)\n",
            "Requirement already satisfied: filelock in /usr/local/lib/python3.7/dist-packages (from transformers->tner) (3.0.12)\n",
            "Requirement already satisfied: packaging in /usr/local/lib/python3.7/dist-packages (from transformers->tner) (20.9)\n",
            "Collecting sacremoses\n",
            "  Downloading sacremoses-0.0.43.tar.gz (883 kB)\n",
            "\u001b[K     |████████████████████████████████| 883 kB 45.5 MB/s \n",
            "\u001b[?25hRequirement already satisfied: tqdm>=4.27 in /usr/local/lib/python3.7/dist-packages (from transformers->tner) (4.41.1)\n",
            "Collecting tokenizers<0.11,>=0.10.1\n",
            "  Downloading tokenizers-0.10.1-cp37-cp37m-manylinux2010_x86_64.whl (3.2 MB)\n",
            "\u001b[K     |████████████████████████████████| 3.2 MB 42.1 MB/s \n",
            "\u001b[?25hBuilding wheels for collected packages: tner, segtok, seqeval, sudachidict-core, sudachipy, sacremoses\n",
            "  Building wheel for tner (setup.py) ... \u001b[?25l\u001b[?25hdone\n",
            "  Created wheel for tner: filename=tner-0.0.4-py3-none-any.whl size=25011 sha256=440128446d719674b3a19d1dfca04a0b5073b28b3b3696208e8e13f78e2f9f6d\n",
            "  Stored in directory: /root/.cache/pip/wheels/92/98/d0/7a4a248e445e2c540a479370d2db465ce2695bfc273f859f8f\n",
            "  Building wheel for segtok (setup.py) ... \u001b[?25l\u001b[?25hdone\n",
            "  Created wheel for segtok: filename=segtok-1.5.10-py3-none-any.whl size=25018 sha256=992d6bb5efa45f4a820c978b418cfa5430654d2091336e1b40572e07e2520ee0\n",
            "  Stored in directory: /root/.cache/pip/wheels/67/b7/d0/a121106e61339eee5ed083bc230b1c8dc422c49a5a28c2addd\n",
            "  Building wheel for seqeval (setup.py) ... \u001b[?25l\u001b[?25hdone\n",
            "  Created wheel for seqeval: filename=seqeval-1.2.2-py3-none-any.whl size=16170 sha256=e1804f5b70ef3ce154e6755f38c8f2312a521c277f03f8f06fb3412e703ffd1d\n",
            "  Stored in directory: /root/.cache/pip/wheels/05/96/ee/7cac4e74f3b19e3158dce26a20a1c86b3533c43ec72a549fd7\n",
            "  Building wheel for sudachidict-core (setup.py) ... \u001b[?25l\u001b[?25hdone\n",
            "  Created wheel for sudachidict-core: filename=SudachiDict_core-20201223.post1-py3-none-any.whl size=71405681 sha256=7e529f8a3383a251c0779d98b834e776b79ae1d514fb37cea44bb25b141e485b\n",
            "  Stored in directory: /root/.cache/pip/wheels/06/79/40/f404626b8327cceb1c1756e6b79b0dd9c3ad79c9d13aed7644\n",
            "  Building wheel for sudachipy (setup.py) ... \u001b[?25l\u001b[?25hdone\n",
            "  Created wheel for sudachipy: filename=SudachiPy-0.5.1-cp37-cp37m-linux_x86_64.whl size=869984 sha256=d2617845488d92dfe382030504a0cc62eecfc0bbb317f0647529cff4d7cab7f5\n",
            "  Stored in directory: /root/.cache/pip/wheels/6d/00/62/d1337cfacee73930ca5a3162508f03df43ba2110effa673f44\n",
            "  Building wheel for sacremoses (setup.py) ... \u001b[?25l\u001b[?25hdone\n",
            "  Created wheel for sacremoses: filename=sacremoses-0.0.43-py3-none-any.whl size=893258 sha256=ff684838f7540f9cd062873d25d6046b336f54d31eb3220f85d2cd7c94b04998\n",
            "  Stored in directory: /root/.cache/pip/wheels/69/09/d1/bf058f7d6fa0ecba2ce7c66be3b8d012beb4bf61a6e0c101c0\n",
            "Successfully built tner segtok seqeval sudachidict-core sudachipy sacremoses\n",
            "Installing collected packages: dartsclone, websockets, uvloop, tokenizers, sudachipy, starlette, sacremoses, pydantic, Pillow, httptools, h11, uvicorn, transformers, sudachidict-core, seqeval, segtok, matplotlib, jinja2, fastapi, aiofiles, tner\n",
            "  Attempting uninstall: Pillow\n",
            "    Found existing installation: Pillow 7.0.0\n",
            "    Uninstalling Pillow-7.0.0:\n",
            "      Successfully uninstalled Pillow-7.0.0\n",
            "  Attempting uninstall: matplotlib\n",
            "    Found existing installation: matplotlib 3.2.2\n",
            "    Uninstalling matplotlib-3.2.2:\n",
            "      Successfully uninstalled matplotlib-3.2.2\n",
            "  Attempting uninstall: jinja2\n",
            "    Found existing installation: Jinja2 2.11.3\n",
            "    Uninstalling Jinja2-2.11.3:\n",
            "      Successfully uninstalled Jinja2-2.11.3\n",
            "\u001b[31mERROR: pip's dependency resolver does not currently take into account all the packages that are installed. This behaviour is the source of the following dependency conflicts.\n",
            "datascience 0.10.6 requires folium==0.2.1, but you have folium 0.8.3 which is incompatible.\n",
            "albumentations 0.1.12 requires imgaug<0.2.7,>=0.2.5, but you have imgaug 0.2.9 which is incompatible.\u001b[0m\n",
            "Successfully installed Pillow-8.1.1 aiofiles-0.5.0 dartsclone-0.9.0 fastapi-0.61.0 h11-0.9.0 httptools-0.1.1 jinja2-2.11.2 matplotlib-3.3.1 pydantic-1.8.1 sacremoses-0.0.43 segtok-1.5.10 seqeval-1.2.2 starlette-0.13.6 sudachidict-core-20201223.post1 sudachipy-0.5.1 tner-0.0.4 tokenizers-0.10.1 transformers-4.3.3 uvicorn-0.11.8 uvloop-0.15.2 websockets-8.1\n"
          ],
          "name": "stdout"
        },
        {
          "output_type": "display_data",
          "data": {
            "application/vnd.colab-display-data+json": {
              "pip_warning": {
                "packages": [
                  "PIL",
                  "matplotlib",
                  "mpl_toolkits"
                ]
              }
            }
          },
          "metadata": {
            "tags": []
          }
        }
      ]
    },
    {
      "cell_type": "code",
      "metadata": {
        "colab": {
          "base_uri": "https://localhost:8080/"
        },
        "id": "first-services",
        "outputId": "c092ca13-e8ef-42ce-c8ea-d9ddb960b6ce"
      },
      "source": [
        "# Imports\n",
        "import nltk\n",
        "from nltk.tokenize import word_tokenize\n",
        "from nltk import tokenize\n",
        "nltk.download('punkt')\n",
        "import pandas as pd\n",
        "from pandas import DataFrame\n",
        "import numpy as np\n",
        "from tqdm import tqdm\n",
        "from collections import Counter\n",
        "import matplotlib.pyplot as plt\n",
        "import os\n",
        "\n",
        "from tner import TransformersNER\n",
        "from pprint import pprint"
      ],
      "id": "first-services",
      "execution_count": 1,
      "outputs": [
        {
          "output_type": "stream",
          "text": [
            "[nltk_data] Downloading package punkt to /root/nltk_data...\n",
            "[nltk_data]   Unzipping tokenizers/punkt.zip.\n"
          ],
          "name": "stdout"
        }
      ]
    },
    {
      "cell_type": "markdown",
      "metadata": {
        "id": "indonesian-reverse"
      },
      "source": [
        "## Datasets\n",
        "\n",
        "The following datasets will be used: \n",
        "- COVID-19 Dialogue Datase (during/after covid) https://www.kaggle.com/xuehaihe/covid-dialogue-dataset?select=COVID-Dialogue-Dataset-English.txt\n",
        "- MedDialog Dataset (English) (before covid) https://github.com/UCSD-AI4H/Medical-Dialogue-System\n",
        "  - This dataset consists of 4 datasets, the 'icliniq' dataset will be used for this project because of the wide variety of medical subjects\n",
        "\n",
        "These datasets are structured as follows: \n",
        "- ID number\n",
        "- Description\n",
        "- Dialogue\n"
      ],
      "id": "indonesian-reverse"
    },
    {
      "cell_type": "markdown",
      "metadata": {
        "id": "proved-fantasy"
      },
      "source": [
        "### Dataset Preprocessing\n",
        "\n",
        "The roBERTa model requires the data to be structured per sentence, which is done in the preprocessing steps. First, the data is split on dialogue to get rid of other unneccessary information. Thereafter, the data is split on sentences and saved as a .csv file for later use.\n",
        "\n",
        "Preprocessing the data might take a while! Especially the icliniq dialogue."
      ],
      "id": "proved-fantasy"
    },
    {
      "cell_type": "code",
      "metadata": {
        "id": "xrlKS0lkY7kM"
      },
      "source": [
        "def split_on_dialogue(data_path):\n",
        "    \"\"\"\n",
        "    Returns list with conversations\n",
        "    Format conversatoins: [[conversation1], [conversation2], ..., [conversation_n]]\n",
        "    \"\"\"\n",
        "\n",
        "    with open(data_path) as f:\n",
        "        lines = f.readlines()\n",
        "        f.close()\n",
        "\n",
        "    i = 0\n",
        "    j = 0\n",
        "    dialogue_i = 0\n",
        "    convo = []\n",
        "    conversations = []\n",
        "\n",
        "    for line in lines:\n",
        "        i += 1\n",
        "        tokens = word_tokenize(line)\n",
        "\n",
        "        if line[:8] == 'Dialogue':\n",
        "            dialogue_i = i + 1\n",
        "\n",
        "        if i == dialogue_i + j:\n",
        "            convo.append(line)\n",
        "            j += 1\n",
        "            if len(tokens) == 0:\n",
        "                conversations.append(convo)\n",
        "                convo = []\n",
        "                j = 0\n",
        "                continue\n",
        "    return conversations\n",
        "\n",
        "\n",
        "def split_on_sentences(conversations):\n",
        "    \"\"\"\n",
        "    A Function that splits the conversations in sentences.\n",
        "    \"\"\"\n",
        "\n",
        "    sentence_list = []\n",
        "\n",
        "    for conversation in conversations:\n",
        "        for sentences in conversation:\n",
        "            token_sen = tokenize.sent_tokenize(sentences)\n",
        "            for sentence in token_sen:\n",
        "                if sentence != 'Patient:' and sentence != 'Doctor:':\n",
        "                    sentence_list.append(sentence)\n",
        "\n",
        "    return sentence_list\n",
        "\n",
        "\n",
        "def save(df, save_preprocessed_dataframe_path, name):\n",
        "    \"\"\"\n",
        "    Function that saves the created dataframe as a csv.\n",
        "    \"\"\"\n",
        "\n",
        "    df.to_csv(save_preprocessed_dataframe_path + name + '.csv', index=False)\n",
        "\n",
        "\n",
        "def preprocess_to_csv(data_path, save_to):\n",
        "    \"\"\"\n",
        "    A function that preprocesses the data (so that it is displayed per sentence),\n",
        "    and saves is as a .csv file for later use.\n",
        "    \"\"\"\n",
        "\n",
        "    # Split on dialogue\n",
        "    conversations = split_on_dialogue(data_path)\n",
        "\n",
        "    # Split on sentence\n",
        "    sentences = split_on_sentences(conversations)\n",
        "\n",
        "    # Make dataframe and drop dubplicates\n",
        "    df_sent = pd.DataFrame(np.array(sentences), columns=['sentences'])\n",
        "    df_sent.drop_duplicates(keep='first', inplace=True)\n",
        "\n",
        "    # Save\n",
        "    name = os.path.basename(data_path)\n",
        "    save(df_sent, save_to, name[:-4])\n",
        "\n",
        "    print(name, 'done')"
      ],
      "id": "xrlKS0lkY7kM",
      "execution_count": 2,
      "outputs": []
    },
    {
      "cell_type": "code",
      "metadata": {
        "id": "amended-glance"
      },
      "source": [
        "if not os.path.exists('/content/roBERTa-Symptom-Tracking/data_preprocessed/COVID-Dialogue-Dataset-English.csv'):\n",
        "    preprocess_to_csv('/content/roBERTa-Symptom-Tracking/data/COVID-Dialogue-Dataset-English.txt', '/content/roBERTa-Symptom-Tracking/data_preprocessed')\n",
        "if not os.path.exists('/content/roBERTa-Symptom-Tracking/data_preprocessed/icliniq_dialogue.csv'):\n",
        "    preprocess_to_csv('/content/roBERTa-Symptom-Tracking/data/icliniq_dialogue.txt', '/content/roBERTa-Symptom-Tracking/data_preprocessed')\n",
        "\n",
        "# Note: If you actually want to run the code, uncomment and run the following:\n",
        "#preprocess_to_csv('/content/roBERTa-Symptom-Tracking/data/COVID-Dialogue-Dataset-English.txt', '/content/roBERTa-Symptom-Tracking/data_preprocessed')\n",
        "#preprocess_to_csv('/content/roBERTa-Symptom-Tracking/data/icliniq_dialogue.txt', '/content/roBERTa-Symptom-Tracking/data_preprocessed')"
      ],
      "id": "amended-glance",
      "execution_count": 3,
      "outputs": []
    },
    {
      "cell_type": "markdown",
      "metadata": {
        "id": "fitted-protein"
      },
      "source": [
        "The data now looks like this:"
      ],
      "id": "fitted-protein"
    },
    {
      "cell_type": "code",
      "metadata": {
        "colab": {
          "base_uri": "https://localhost:8080/",
          "height": 206
        },
        "id": "sealed-anderson",
        "outputId": "b07043b2-6116-4c3d-ff1d-bf001ae98675"
      },
      "source": [
        "covid_dialogue_df = pd.read_csv('/content/roBERTa-Symptom-Tracking/data_preprocessed/COVID-Dialogue-Dataset-English.csv')\n",
        "icliniq_dialogue_df = pd.read_csv('/content/roBERTa-Symptom-Tracking/data_preprocessed/icliniq_dialogue.csv')\n",
        "covid_dialogue_df.head()"
      ],
      "id": "sealed-anderson",
      "execution_count": 4,
      "outputs": [
        {
          "output_type": "execute_result",
          "data": {
            "text/html": [
              "<div>\n",
              "<style scoped>\n",
              "    .dataframe tbody tr th:only-of-type {\n",
              "        vertical-align: middle;\n",
              "    }\n",
              "\n",
              "    .dataframe tbody tr th {\n",
              "        vertical-align: top;\n",
              "    }\n",
              "\n",
              "    .dataframe thead th {\n",
              "        text-align: right;\n",
              "    }\n",
              "</style>\n",
              "<table border=\"1\" class=\"dataframe\">\n",
              "  <thead>\n",
              "    <tr style=\"text-align: right;\">\n",
              "      <th></th>\n",
              "      <th>sentences</th>\n",
              "    </tr>\n",
              "  </thead>\n",
              "  <tbody>\n",
              "    <tr>\n",
              "      <th>0</th>\n",
              "      <td>Hello doctor, I get a cough for the last few d...</td>\n",
              "    </tr>\n",
              "    <tr>\n",
              "      <th>1</th>\n",
              "      <td>No raise in temperature but feeling tired with...</td>\n",
              "    </tr>\n",
              "    <tr>\n",
              "      <th>2</th>\n",
              "      <td>No contact with any Covid-19 persons.</td>\n",
              "    </tr>\n",
              "    <tr>\n",
              "      <th>3</th>\n",
              "      <td>It has been four to five days and has drunk a ...</td>\n",
              "    </tr>\n",
              "    <tr>\n",
              "      <th>4</th>\n",
              "      <td>Doctors have shut the OP so do not know what t...</td>\n",
              "    </tr>\n",
              "  </tbody>\n",
              "</table>\n",
              "</div>"
            ],
            "text/plain": [
              "                                           sentences\n",
              "0  Hello doctor, I get a cough for the last few d...\n",
              "1  No raise in temperature but feeling tired with...\n",
              "2              No contact with any Covid-19 persons.\n",
              "3  It has been four to five days and has drunk a ...\n",
              "4  Doctors have shut the OP so do not know what t..."
            ]
          },
          "metadata": {
            "tags": []
          },
          "execution_count": 4
        }
      ]
    },
    {
      "cell_type": "markdown",
      "metadata": {
        "id": "painful-commonwealth"
      },
      "source": [
        "Because the Icliniq dialogue data is 60 times larger than the COVID-19 dialogue data, it will be shortened to +/ 5500 sentences. For this purpose a saved .csv file will be used so that the results will not change (due to randomness). To run this code please remove '`if not os.path.exists(...)` etc'. If you run this code, do note that the dataframe will be different each time. "
      ],
      "id": "painful-commonwealth"
    },
    {
      "cell_type": "code",
      "metadata": {
        "id": "bearing-likelihood"
      },
      "source": [
        "if not os.path.exists('/content/roBERTa-Symptom-Tracking/data_preprocessed/icliniq_dialogue_short.csv'):\n",
        "    np.random.seed(10)\n",
        "    dfcopy = icliniq_dialogue_df.copy()\n",
        "    remove_n = 263500\n",
        "    drop_indices = np.random.choice(dfcopy.index, remove_n, replace=False)\n",
        "    icliniq_dialogue_short_df = dfcopy.drop(drop_indices)\n",
        "    icliniq_dialogue_short_df.to_csv('/content/roBERTa-Symptom-Tracking/data_preprocessed/icliniq_dialogue_short.csv')\n",
        "icliniq_dialogue_short_df = pd.read_csv('/content/roBERTa-Symptom-Tracking/data_preprocessed/icliniq_dialogue_short.csv')"
      ],
      "id": "bearing-likelihood",
      "execution_count": 5,
      "outputs": []
    },
    {
      "cell_type": "markdown",
      "metadata": {
        "id": "rough-blake"
      },
      "source": [
        "## Aproaches"
      ],
      "id": "rough-blake"
    },
    {
      "cell_type": "markdown",
      "metadata": {
        "id": "coastal-concentration"
      },
      "source": [
        "- Use pre-trained roBERTa to extract symptoms from medical dialogue before and after COVID-19\n",
        "- Display most common symtoms\n",
        "- Model evaluation using accuracy score\n"
      ],
      "id": "coastal-concentration"
    },
    {
      "cell_type": "markdown",
      "metadata": {
        "id": "available-tulsa"
      },
      "source": [
        "## Implementation details"
      ],
      "id": "available-tulsa"
    },
    {
      "cell_type": "markdown",
      "metadata": {
        "id": "practical-dominican"
      },
      "source": [
        "First, let's download the pretrained model from HuggingFace. If this doesn't work, please open this code in a google colab. "
      ],
      "id": "practical-dominican"
    },
    {
      "cell_type": "code",
      "metadata": {
        "colab": {
          "base_uri": "https://localhost:8080/",
          "height": 475,
          "referenced_widgets": [
            "aa045b6c2a744d4ebd63703a29e59b41",
            "42570d0d48d040579d86ed6073a1f680",
            "80b6152be2eb436ebbf677699e4324e6",
            "71a062f6f1cd4243815dfd893e077eb9",
            "4841c878de444b5d87d3437b4c932444",
            "b354790e3702471e842a65e510104a0d",
            "a5562d5d3b3b4fab96e7c68b201d35d9",
            "e3d92d4fefa64cfabfc2abd364fc6483",
            "bd03a79fd7ab4b8fb65813cb80d3e42f",
            "6587ea1a66ab441ab8bd2daa1ff3a410",
            "05f95db7810146f9960d0a73fda0ebd5",
            "7565a031fcc9412fa68a1fa81cff60d7",
            "cae40e6c6f3d4632832425d465aa1577",
            "d1f37bdd270843058aa697d3a8c283dd",
            "d963f699ffc64f9bbc91d3eae1c00e51",
            "a106779c645149de87849c0f0a0b93b1",
            "fd1116a7084b4a6392ffc1d7407fa63e",
            "abb6c669bff241c58d23e99f2c997490",
            "da924791b98e425bab690d6ed50708db",
            "6ab7e7d871d14dd9a1f8cdc935cf561d",
            "b526889ecd694581a783bf311e10ae5c",
            "33717213263a4a3b9290aabf5ba38f35",
            "d09e5fee4bd04582b2157f052a17ef80",
            "81bb81f2127d4c809289e693f98310c1",
            "5acf538cd4004a969a2c882c7ea4a116",
            "f4b5f880e397413da50b55ad78f55fe3",
            "af9b4d51d9a04b99be413aa71bea5928",
            "a8e9031c8caf4f648dbd8724b2e9d1c8",
            "d1a03db09a124c8cb6471bf9a43ea0d8",
            "7df9b1368eaf405d822d853b00cdb5bf",
            "d3edd295f5eb45e688a8dbebfbb94d72",
            "25b93e1f0f7d48508a52bb4449c44e49",
            "9a7657a853b9489eaf6281a50a7264b7",
            "f812562dd93c4c73afa9f075dd46baff",
            "644851a5fa3f4c0894a02efbce746e19",
            "b3c912e29dcc45419c17fdf4ab089e7a",
            "fa561c49be124523b47166ae3d029602",
            "fbbd5752c5d847c098ead7e80394a8a6",
            "000526a8858f4e77b81ef9fb59bda680",
            "f425bb5ecc3c4d3ebbf670e846c17eb7"
          ]
        },
        "id": "married-horror",
        "outputId": "18cf103e-4d45-4bb3-c057-0d0e98eec9e0"
      },
      "source": [
        "trainer = TransformersNER('asahi417/tner-xlm-roberta-base-bc5cdr')"
      ],
      "id": "married-horror",
      "execution_count": 6,
      "outputs": [
        {
          "output_type": "stream",
          "text": [
            "2021-03-05 08:22:49 INFO     *** initialize network ***\n",
            "2021-03-05 08:22:50 INFO     Lock 140215673450256 acquired on /root/.cache/huggingface/transformers/0124765b07a64cb3f0ac20bbbd761216814f2b9c09a674cdbe80456bcf2bdf67.e4c80030dae24cfa048ac47270164fcf0f9a4195d0f6b80ef60c4addb6ef99c1.lock\n"
          ],
          "name": "stderr"
        },
        {
          "output_type": "display_data",
          "data": {
            "application/vnd.jupyter.widget-view+json": {
              "model_id": "aa045b6c2a744d4ebd63703a29e59b41",
              "version_minor": 0,
              "version_major": 2
            },
            "text/plain": [
              "HBox(children=(FloatProgress(value=0.0, description='Downloading', max=835.0, style=ProgressStyle(description_…"
            ]
          },
          "metadata": {
            "tags": []
          }
        },
        {
          "output_type": "stream",
          "text": [
            "2021-03-05 08:22:50 INFO     Lock 140215673450256 released on /root/.cache/huggingface/transformers/0124765b07a64cb3f0ac20bbbd761216814f2b9c09a674cdbe80456bcf2bdf67.e4c80030dae24cfa048ac47270164fcf0f9a4195d0f6b80ef60c4addb6ef99c1.lock\n"
          ],
          "name": "stderr"
        },
        {
          "output_type": "stream",
          "text": [
            "\n"
          ],
          "name": "stdout"
        },
        {
          "output_type": "stream",
          "text": [
            "2021-03-05 08:22:51 INFO     Lock 140215668803024 acquired on /root/.cache/huggingface/transformers/e6eadd5421865c5385da0f6025fb245b696e7361cc42fcbd3545277be35d8b18.a8d18fe2c0dd434eb43b496d442bd760ec596e291ac729aab932a21831a7f123.lock\n"
          ],
          "name": "stderr"
        },
        {
          "output_type": "display_data",
          "data": {
            "application/vnd.jupyter.widget-view+json": {
              "model_id": "bd03a79fd7ab4b8fb65813cb80d3e42f",
              "version_minor": 0,
              "version_major": 2
            },
            "text/plain": [
              "HBox(children=(FloatProgress(value=0.0, description='Downloading', max=1109913068.0, style=ProgressStyle(descr…"
            ]
          },
          "metadata": {
            "tags": []
          }
        },
        {
          "output_type": "stream",
          "text": [
            "2021-03-05 08:24:33 INFO     Lock 140215668803024 released on /root/.cache/huggingface/transformers/e6eadd5421865c5385da0f6025fb245b696e7361cc42fcbd3545277be35d8b18.a8d18fe2c0dd434eb43b496d442bd760ec596e291ac729aab932a21831a7f123.lock\n"
          ],
          "name": "stderr"
        },
        {
          "output_type": "stream",
          "text": [
            "\n"
          ],
          "name": "stdout"
        },
        {
          "output_type": "stream",
          "text": [
            "2021-03-05 08:24:45 INFO     Lock 140215667160848 acquired on /root/.cache/huggingface/transformers/166cead684ec8e91fecec97a1068c59e7c6ffe7beaad4d7e7ba158ceca112e65.71e50b08dbe7e5375398e165096cacc3d2086119d6a449364490da6908de655e.lock\n"
          ],
          "name": "stderr"
        },
        {
          "output_type": "display_data",
          "data": {
            "application/vnd.jupyter.widget-view+json": {
              "model_id": "fd1116a7084b4a6392ffc1d7407fa63e",
              "version_minor": 0,
              "version_major": 2
            },
            "text/plain": [
              "HBox(children=(FloatProgress(value=0.0, description='Downloading', max=5069051.0, style=ProgressStyle(descript…"
            ]
          },
          "metadata": {
            "tags": []
          }
        },
        {
          "output_type": "stream",
          "text": [
            "2021-03-05 08:24:47 INFO     Lock 140215667160848 released on /root/.cache/huggingface/transformers/166cead684ec8e91fecec97a1068c59e7c6ffe7beaad4d7e7ba158ceca112e65.71e50b08dbe7e5375398e165096cacc3d2086119d6a449364490da6908de655e.lock\n"
          ],
          "name": "stderr"
        },
        {
          "output_type": "stream",
          "text": [
            "\n"
          ],
          "name": "stdout"
        },
        {
          "output_type": "stream",
          "text": [
            "2021-03-05 08:24:49 INFO     Lock 140215665476880 acquired on /root/.cache/huggingface/transformers/d59be0bb47689ce53b31cea19550dfa37fdd443a6533f323f8cd17c670400e9d.0dc5b1041f62041ebbd23b1297f2f573769d5c97d8b7c28180ec86b8f6185aa8.lock\n"
          ],
          "name": "stderr"
        },
        {
          "output_type": "display_data",
          "data": {
            "application/vnd.jupyter.widget-view+json": {
              "model_id": "5acf538cd4004a969a2c882c7ea4a116",
              "version_minor": 0,
              "version_major": 2
            },
            "text/plain": [
              "HBox(children=(FloatProgress(value=0.0, description='Downloading', max=150.0, style=ProgressStyle(description_…"
            ]
          },
          "metadata": {
            "tags": []
          }
        },
        {
          "output_type": "stream",
          "text": [
            "2021-03-05 08:24:49 INFO     Lock 140215665476880 released on /root/.cache/huggingface/transformers/d59be0bb47689ce53b31cea19550dfa37fdd443a6533f323f8cd17c670400e9d.0dc5b1041f62041ebbd23b1297f2f573769d5c97d8b7c28180ec86b8f6185aa8.lock\n"
          ],
          "name": "stderr"
        },
        {
          "output_type": "stream",
          "text": [
            "\n"
          ],
          "name": "stdout"
        },
        {
          "output_type": "stream",
          "text": [
            "2021-03-05 08:24:50 INFO     Lock 140215665479760 acquired on /root/.cache/huggingface/transformers/e2122fba918701de224f3eb6b358d2b7d54aa1dcfbeaacf459ab23afe4a034c1.ce1ec7367d995911ec791a5762308b4e4bbda9dc206caca7636088f9c2bce1a2.lock\n"
          ],
          "name": "stderr"
        },
        {
          "output_type": "display_data",
          "data": {
            "application/vnd.jupyter.widget-view+json": {
              "model_id": "9a7657a853b9489eaf6281a50a7264b7",
              "version_minor": 0,
              "version_major": 2
            },
            "text/plain": [
              "HBox(children=(FloatProgress(value=0.0, description='Downloading', max=211.0, style=ProgressStyle(description_…"
            ]
          },
          "metadata": {
            "tags": []
          }
        },
        {
          "output_type": "stream",
          "text": [
            "2021-03-05 08:24:51 INFO     Lock 140215665479760 released on /root/.cache/huggingface/transformers/e2122fba918701de224f3eb6b358d2b7d54aa1dcfbeaacf459ab23afe4a034c1.ce1ec7367d995911ec791a5762308b4e4bbda9dc206caca7636088f9c2bce1a2.lock\n"
          ],
          "name": "stderr"
        },
        {
          "output_type": "stream",
          "text": [
            "\n"
          ],
          "name": "stdout"
        }
      ]
    },
    {
      "cell_type": "markdown",
      "metadata": {
        "id": "listed-legislation"
      },
      "source": [
        "For the task of determining the most used symptoms in a healhcare dialogue, the function `get_symptoms_data(df)` has been designed. It consists of 5 steps that will be discussed. The steps are also commented in the function for easier understanding and following. \n",
        "\n",
        "While looping over the seperate sentences in the dataframe: \\\n",
        "__Step 1__: First, the prediction of the sentence is extracted using the function `trainer.predict()` that is part of the T-NER package. \\\n",
        "__Step 2__: Second, only the predicted symptoms are extracted using the costum function `get_predicted_symptoms(prediction)`. This function returns only the sympoms that are mentioned in the sentence by only selecting the predicted entities that are labelled 'disease'. \\\n",
        "__Step 3__: Then, all these symptoms are gathered and put in a different dataframe. Note that this layout is not structured by sentence. All the symptoms are placed seperately in the dataframe. \\\n",
        "__Step 4__: After that, a counter is applied to this dataframe. This allows to extract the top 5 used symptoms. \\\n",
        "__Step 5__: The top 5 used symptoms are extracted and plotted for easy observation. "
      ],
      "id": "listed-legislation"
    },
    {
      "cell_type": "code",
      "metadata": {
        "id": "catholic-draft"
      },
      "source": [
        "def get_predicted_symptoms(prediction):\n",
        "    \"\"\"\n",
        "    This function takes in the prediction of a sentence of the pre-trained model \n",
        "    and returns the symptoms mentioned in that sentence.\n",
        "    \"\"\"\n",
        "    \n",
        "    symptoms = []\n",
        "    \n",
        "    # Check if there is a predicted entity\n",
        "    if len(prediction[0]['entity']) > 0:\n",
        "        number_of_entities = len(prediction[0]['entity'])\n",
        "    \n",
        "        # Loop over predicted entities and get symptoms (here called: disease)\n",
        "        for i in range(number_of_entities):\n",
        "            if prediction[0]['entity'][i]['type'] == 'disease':\n",
        "                symptoms.append(prediction[0]['entity'][i]['mention'])\n",
        "            \n",
        "    return symptoms \n",
        "\n",
        "def get_symptoms_data(df):\n",
        "    \"\"\"\n",
        "    This function takes a (preprocessed) dataframe as input, determines the predicted\n",
        "    symptoms per phrase, and outputs a dictionary with the 5 most frequent symptoms used,\n",
        "    while also plotting the counts of the words in a barplot. \n",
        "    \n",
        "    The steps (1-5) are explained in the report. \n",
        "    \"\"\"\n",
        "    \n",
        "    all_symptoms = []\n",
        "    skipped_sentences = 0\n",
        "    \n",
        "    for ind in tqdm(df.index):\n",
        "        sentence = df['sentences'][ind]\n",
        "        \n",
        "        # Padding is needed because algorithms is not used to small sentences\n",
        "        if len(sentence) < 45:\n",
        "            sentence = sentence+'...'\n",
        "        \n",
        "        # Step 1\n",
        "        try:\n",
        "            prediction = trainer.predict([sentence])\n",
        "        except:\n",
        "            skipped_sentences += 1\n",
        "            continue\n",
        "        \n",
        "        # Step 2\n",
        "        predicted_symptom = get_predicted_symptoms(prediction)\n",
        "        predicted_symptom = [x.lower() for x in predicted_symptom]\n",
        "        predicted_symptom = [x.split(', ')[0] for x in predicted_symptom]\n",
        "        \n",
        "        # Step 3\n",
        "        for symptom in predicted_symptom:\n",
        "            if symptom != 'coronavirus': # Remove 'coronavirus', because it is not a symptom\n",
        "                all_symptoms.append(symptom)\n",
        "            \n",
        "    df_symptoms = DataFrame(all_symptoms,columns=['symptoms'])\n",
        "    \n",
        "    # Step 4\n",
        "    count_symptoms = Counter()\n",
        "    \n",
        "    # Split on 'enter(\\n)' so that grouped words stay 1 symptom\n",
        "    df_symptoms['symptoms'].str.lower().str.split('\\n').apply(count_symptoms.update) \n",
        "\n",
        "    # Most common symptoms: Step 5\n",
        "    print('Skipped sentences: ', skipped_sentences)\n",
        "    top5 = dict(count_symptoms.most_common(5))\n",
        "    print(top5)\n",
        "    plt.bar(range(len(top5)), list(top5.values()), align='center')\n",
        "    plt.xticks(range(len(top5)), list(top5.keys()))\n",
        "    plt.title('Most common symptoms')\n",
        "    plt.show()\n",
        "        "
      ],
      "id": "catholic-draft",
      "execution_count": 7,
      "outputs": []
    },
    {
      "cell_type": "markdown",
      "metadata": {
        "id": "known-instrumentation"
      },
      "source": [
        "# Evaluation"
      ],
      "id": "known-instrumentation"
    },
    {
      "cell_type": "markdown",
      "metadata": {
        "id": "tutorial-russian"
      },
      "source": [
        "## Metrics\n",
        "The model will be evaluated using the accuracy metric. The T-NER package also included evaluation functions, but the accuracy function that is used for this research has ben designed from scratch. The reason for this is because the T-NER functions needed the data to be in a different format. It has been decided that pre-processing the code again, only for that purpose, was not optimal. The accuracy function that has been developed keeps track of the total number of symptoms and the number of correctly predicted sympoms. The number of correctly predicted symptoms are then divided by the total number of symptoms, which gives the accuracy score. "
      ],
      "id": "tutorial-russian"
    },
    {
      "cell_type": "code",
      "metadata": {
        "id": "mt-5TeP4aAnX"
      },
      "source": [
        "def accuracy(df, trainer):\n",
        "    \"\"\"\n",
        "    This function computes the accuracy score, given a dataframe.\n",
        "    \"\"\"\n",
        "    number_of_symptoms = 0\n",
        "    number_of_well_predicted = 0\n",
        "\n",
        "    for ind in tqdm(df.index):\n",
        "\n",
        "        sentence = df['sentences'][ind]\n",
        "\n",
        "        # Padding is needed because algorithms is not used to small sentences\n",
        "        if len(sentence) < 60:\n",
        "            sentence = sentence + '...'\n",
        "\n",
        "        prediction = trainer.predict([sentence])\n",
        "\n",
        "        predicted_symptom = get_predicted_symptoms(prediction)\n",
        "        predicted_symptom = [x.lower() for x in predicted_symptom]\n",
        "        predicted_symptom = [x.split(', ')[0] for x in predicted_symptom]\n",
        "        gt_symptom = df['symptoms'][ind]\n",
        "\n",
        "        # If it's not nan\n",
        "        if isinstance(gt_symptom, str):\n",
        "            gt_list = gt_symptom.split(', ')\n",
        "\n",
        "            # Keep track of symptoms\n",
        "            for symptom in gt_list:\n",
        "                number_of_symptoms += 1\n",
        "\n",
        "                # Keep track of well predicted symptoms\n",
        "                if symptom in predicted_symptom:\n",
        "                    number_of_well_predicted += 1\n",
        "\n",
        "    print('Ground truth symptoms: ', number_of_symptoms)\n",
        "    print('Correctly predicted symptoms ', number_of_well_predicted)\n",
        "    print('accuracy: ', number_of_well_predicted / number_of_symptoms)"
      ],
      "id": "mt-5TeP4aAnX",
      "execution_count": 8,
      "outputs": []
    },
    {
      "cell_type": "code",
      "metadata": {
        "id": "typical-probe"
      },
      "source": [
        "covid_dialogue_ann_df = pd.read_csv('/content/roBERTa-Symptom-Tracking/annotated_data/COVID-Dialogue-Dataset-English-annotated.csv')\n",
        "icliniq_dialogue_ann_df = pd.read_csv('/content/roBERTa-Symptom-Tracking/annotated_data/icliniq_dialogue_nodup_annotated.csv')"
      ],
      "id": "typical-probe",
      "execution_count": 9,
      "outputs": []
    },
    {
      "cell_type": "markdown",
      "metadata": {
        "id": "natural-proposal"
      },
      "source": [
        "The evaluation data is annotated by hand. Per sentence, the symptoms in that sentence are added to another column in the same row of the dataframe. It looks like this:"
      ],
      "id": "natural-proposal"
    },
    {
      "cell_type": "code",
      "metadata": {
        "colab": {
          "base_uri": "https://localhost:8080/",
          "height": 206
        },
        "id": "bearing-puzzle",
        "outputId": "e3238dd0-96a8-4737-a58d-f86ea25b6623"
      },
      "source": [
        "covid_dialogue_ann_df.head()"
      ],
      "id": "bearing-puzzle",
      "execution_count": 10,
      "outputs": [
        {
          "output_type": "execute_result",
          "data": {
            "text/html": [
              "<div>\n",
              "<style scoped>\n",
              "    .dataframe tbody tr th:only-of-type {\n",
              "        vertical-align: middle;\n",
              "    }\n",
              "\n",
              "    .dataframe tbody tr th {\n",
              "        vertical-align: top;\n",
              "    }\n",
              "\n",
              "    .dataframe thead th {\n",
              "        text-align: right;\n",
              "    }\n",
              "</style>\n",
              "<table border=\"1\" class=\"dataframe\">\n",
              "  <thead>\n",
              "    <tr style=\"text-align: right;\">\n",
              "      <th></th>\n",
              "      <th>sentences</th>\n",
              "      <th>symptoms</th>\n",
              "    </tr>\n",
              "  </thead>\n",
              "  <tbody>\n",
              "    <tr>\n",
              "      <th>0</th>\n",
              "      <td>Hello doctor, I get a cough for the last few d...</td>\n",
              "      <td>cough</td>\n",
              "    </tr>\n",
              "    <tr>\n",
              "      <th>1</th>\n",
              "      <td>No raise in temperature but feeling tired with...</td>\n",
              "      <td>raise in temperature, tired</td>\n",
              "    </tr>\n",
              "    <tr>\n",
              "      <th>2</th>\n",
              "      <td>No contact with any Covid-19 persons.</td>\n",
              "      <td>NaN</td>\n",
              "    </tr>\n",
              "    <tr>\n",
              "      <th>3</th>\n",
              "      <td>It has been four to five days and has drunk a ...</td>\n",
              "      <td>NaN</td>\n",
              "    </tr>\n",
              "    <tr>\n",
              "      <th>4</th>\n",
              "      <td>Doctors have shut the OP so do not know what t...</td>\n",
              "      <td>NaN</td>\n",
              "    </tr>\n",
              "  </tbody>\n",
              "</table>\n",
              "</div>"
            ],
            "text/plain": [
              "                                           sentences                     symptoms\n",
              "0  Hello doctor, I get a cough for the last few d...                        cough\n",
              "1  No raise in temperature but feeling tired with...  raise in temperature, tired\n",
              "2              No contact with any Covid-19 persons.                          NaN\n",
              "3  It has been four to five days and has drunk a ...                          NaN\n",
              "4  Doctors have shut the OP so do not know what t...                          NaN"
            ]
          },
          "metadata": {
            "tags": []
          },
          "execution_count": 10
        }
      ]
    },
    {
      "cell_type": "markdown",
      "metadata": {
        "id": "weird-miniature"
      },
      "source": [
        "This will take approximately 1 or 2 minutes per dataset."
      ],
      "id": "weird-miniature"
    },
    {
      "cell_type": "code",
      "metadata": {
        "colab": {
          "base_uri": "https://localhost:8080/"
        },
        "id": "sticky-albania",
        "outputId": "74c2c5f5-57d1-4bbe-a095-5bd6dcc79b05"
      },
      "source": [
        "print('-- COVID-19 Dialogue --')\n",
        "accuracy(covid_dialogue_ann_df, trainer)\n",
        "print()\n",
        "print('-- Icliniq Dialogue --')\n",
        "accuracy(icliniq_dialogue_ann_df, trainer)"
      ],
      "id": "sticky-albania",
      "execution_count": 11,
      "outputs": [
        {
          "output_type": "stream",
          "text": [
            "\r  0%|          | 0/507 [00:00<?, ?it/s]"
          ],
          "name": "stderr"
        },
        {
          "output_type": "stream",
          "text": [
            "-- COVID-19 Dialogue --\n"
          ],
          "name": "stdout"
        },
        {
          "output_type": "stream",
          "text": [
            "100%|██████████| 507/507 [00:13<00:00, 38.07it/s]\n",
            "  1%|          | 5/500 [00:00<00:11, 44.68it/s]"
          ],
          "name": "stderr"
        },
        {
          "output_type": "stream",
          "text": [
            "Ground truth symptoms:  303\n",
            "Correctly predicted symptoms  239\n",
            "accuracy:  0.7887788778877888\n",
            "\n",
            "-- Icliniq Dialogue --\n"
          ],
          "name": "stdout"
        },
        {
          "output_type": "stream",
          "text": [
            "100%|██████████| 500/500 [00:11<00:00, 44.63it/s]"
          ],
          "name": "stderr"
        },
        {
          "output_type": "stream",
          "text": [
            "Ground truth symptoms:  201\n",
            "Correctly predicted symptoms  167\n",
            "accuracy:  0.8308457711442786\n"
          ],
          "name": "stdout"
        },
        {
          "output_type": "stream",
          "text": [
            "\n"
          ],
          "name": "stderr"
        }
      ]
    },
    {
      "cell_type": "markdown",
      "metadata": {
        "id": "digital-smile"
      },
      "source": [
        "## Results"
      ],
      "id": "digital-smile"
    },
    {
      "cell_type": "markdown",
      "metadata": {
        "id": "normal-boards"
      },
      "source": [
        "The results for COVID-19 dialogue: "
      ],
      "id": "normal-boards"
    },
    {
      "cell_type": "markdown",
      "metadata": {
        "id": "republican-recognition"
      },
      "source": [
        "![](RQ1/most_common_symptoms_covid.png)"
      ],
      "id": "republican-recognition"
    },
    {
      "cell_type": "code",
      "metadata": {
        "colab": {
          "base_uri": "https://localhost:8080/",
          "height": 350
        },
        "id": "dangerous-cattle",
        "outputId": "0b3d08db-72d4-4604-eb4d-b923e5d6e637"
      },
      "source": [
        "get_symptoms_data(covid_dialogue_df)"
      ],
      "id": "dangerous-cattle",
      "execution_count": 12,
      "outputs": [
        {
          "output_type": "stream",
          "text": [
            " 28%|██▊       | 1184/4273 [00:26<01:08, 45.42it/s]2021-03-05 08:26:15 WARNING  entity mismatch: smokers cough vs mokers cough'\n",
            "100%|██████████| 4273/4273 [01:36<00:00, 44.48it/s]\n"
          ],
          "name": "stderr"
        },
        {
          "output_type": "stream",
          "text": [
            "Skipped sentences:  21\n",
            "{'pneumonia': 323, 'fever': 196, 'cough': 174, 'sore throat': 81, 'infection': 65}\n"
          ],
          "name": "stdout"
        },
        {
          "output_type": "display_data",
          "data": {
            "image/png": "[encoded data removed]",
            "text/plain": [
              "<Figure size 432x288 with 1 Axes>"
            ]
          },
          "metadata": {
            "tags": [],
            "needs_background": "light"
          }
        }
      ]
    },
    {
      "cell_type": "markdown",
      "metadata": {
        "id": "convenient-madonna"
      },
      "source": [
        "The results for Icliniq dialogue:"
      ],
      "id": "convenient-madonna"
    },
    {
      "cell_type": "markdown",
      "metadata": {
        "id": "acknowledged-summit"
      },
      "source": [
        "![](RQ1/most_common_symptoms_icliniq.png)"
      ],
      "id": "acknowledged-summit"
    },
    {
      "cell_type": "code",
      "metadata": {
        "colab": {
          "base_uri": "https://localhost:8080/",
          "height": 333
        },
        "id": "unexpected-detector",
        "outputId": "dde57c58-2a16-4f20-bfaa-608dad2f59a2"
      },
      "source": [
        "get_symptoms_data(icliniq_dialogue_short_df)"
      ],
      "id": "unexpected-detector",
      "execution_count": 13,
      "outputs": [
        {
          "output_type": "stream",
          "text": [
            "100%|██████████| 5678/5678 [02:07<00:00, 44.36it/s]\n"
          ],
          "name": "stderr"
        },
        {
          "output_type": "stream",
          "text": [
            "Skipped sentences:  19\n",
            "{'pain': 188, 'anxiety': 46, 'bleeding': 44, 'fever': 40, 'infection': 33}\n"
          ],
          "name": "stdout"
        },
        {
          "output_type": "display_data",
          "data": {
            "image/png": "[encoded data removed]",
            "text/plain": [
              "<Figure size 432x288 with 1 Axes>"
            ]
          },
          "metadata": {
            "tags": [],
            "needs_background": "light"
          }
        }
      ]
    },
    {
      "cell_type": "markdown",
      "metadata": {
        "id": "amended-theta"
      },
      "source": [
        "## Error analysis"
      ],
      "id": "amended-theta"
    },
    {
      "cell_type": "markdown",
      "metadata": {
        "id": "nervous-capture"
      },
      "source": [
        "# Findings"
      ],
      "id": "nervous-capture"
    },
    {
      "cell_type": "markdown",
      "metadata": {
        "id": "architectural-daughter"
      },
      "source": [
        "## Illustration\n",
        "\n",
        "In the first plot (on the left) you can see the results for the COVID-19 dialogue again, and in the second plot (on the right) you can see the results for the Icliniq dialogue again. It can be seen that both results include the symptoms 'fever' and 'infection'. \n",
        "\n",
        "<table><tr><td><img src='RQ1/most_common_symptoms_covid.png'></td><td><img src='RQ1/most_common_symptoms_icliniq.png'></td></tr></table>"
      ],
      "id": "architectural-daughter"
    },
    {
      "cell_type": "markdown",
      "metadata": {
        "id": "senior-warren"
      },
      "source": [
        "## Interpretation\n",
        "\n",
        "The results show that pneumonia, fever, cough, sore throat and infection are the most common symptoms that patients and doctors talk about in COVID-19 related medical interviews. This seems valid, because they all actually are symptoms of COVID-19. Pneumonia is the most used symptom here, whereas before COVID-19 the most used symtpoms was pain. This is also seems valid, because in very general interviews (with general topics) pain can be used to describe a variety of areas. Furthermore, before COVID-19 the most used symptoms inclide anxiety, bleeding, fever and infection. \n",
        "\n",
        "It is clear that fever and infection were already important symptoms in medical interviews and with COVID-19 they stayed important, especially fever was more and more discussed. Furthermore, pain, anxiety and bleeding made way for pneumonia, cough and sore throat. "
      ],
      "id": "senior-warren"
    },
    {
      "cell_type": "markdown",
      "metadata": {
        "id": "wrapped-richardson"
      },
      "source": [
        "## Discussion\n",
        "\n",
        "The results can, of course, not be generalized to all medical interviews because just a sub-set of data is used for this research. However, it is still insightful to know the changes in medical dialogue before and after COVID-19. "
      ],
      "id": "wrapped-richardson"
    },
    {
      "cell_type": "markdown",
      "metadata": {
        "id": "radio-research"
      },
      "source": [
        "# Conclusions"
      ],
      "id": "radio-research"
    },
    {
      "cell_type": "markdown",
      "metadata": {
        "id": "tamil-relative"
      },
      "source": [
        "## Summary\n",
        "\n",
        "This research can be summarized as follows. To determine the most common symptoms in a medical dialogue before and after COVID-19 a pre-trained RoBERTa model is used to extract symptoms from a given sequence of text. These symptoms are then collected and counted, whereafter the top 5 most common sympoms are extracted and displayed. \n",
        "\n",
        "For this research it can be stated that the most common symptoms in COVID-19 symptoms dialogue are pneumonia, fever, cough, sore throat and infection. Whereas that used to be pain, anxiety, bleeding, fever and infection. Even though the results might not be generalized to all medical interviews out there, symptom-tracking could still be a useful tool for summarizing medical interviews or quickly displaying common symptoms for a certain disease. "
      ],
      "id": "tamil-relative"
    },
    {
      "cell_type": "markdown",
      "metadata": {
        "id": "generic-vehicle"
      },
      "source": [
        "## Lessons learned"
      ],
      "id": "generic-vehicle"
    },
    {
      "cell_type": "markdown",
      "metadata": {
        "id": "behind-bronze"
      },
      "source": [
        "# References\n",
        "\n",
        "Chih-Hsuan  Wei,  Yifan  Peng,  Robert  Leaman,  Al-lan  Peter  Davis,   Carolyn  J.  Mattingly,   Jiao  Li,Thomas   C.   Wiegers,    and   Zhiyong   Lu.   2015.Overview  of  the  BioCreative  V  Chemical  DiseaseRelation (CDR) Task.   InProceedings of the FifthBioCreative Challenge Evaluation Workshop. pages154–166.\n",
        "\n",
        "Devlin, J., Chang, M. W., Lee, K., & Toutanova, K. (2018). Bert: Pre-training of deep \n",
        "bidirectional transformers for language understanding. arXiv preprint arXiv:1810.04805.\n",
        "\n",
        "Liu, Y., Ott, M., Goyal, N., Du, J., Joshi, M., Chen, D., ... & Stoyanov, V. (2019). Roberta: A robustly optimized bert pretraining approach. arXiv preprint arXiv:1907.11692.\n",
        "\n",
        "Vamvas, J. (2019). BERT for NER. Von https://vamvas.ch/bert-for-ner.\n",
        "\n",
        "Vaswani, A., Shazeer, N., Parmar, N., Uszkoreit, J., Jones, L., Gomez, A. N., ... & Polosukhin, I. (2017). Attention is all you need. arXiv preprint arXiv:1706.03762."
      ],
      "id": "behind-bronze"
    }
  ]
}